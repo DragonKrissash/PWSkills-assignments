{
 "cells": [
  {
   "cell_type": "code",
   "execution_count": null,
   "id": "73875f9c-590b-43d2-93e1-d6e3fa9d9332",
   "metadata": {},
   "outputs": [],
   "source": [
    "Q1. Explain Class and Object with respect to Object-Oriented Programming. Give a suitable example.\n",
    "A1. Class is a blueprint or template which consists of data and functions.\n",
    "    Object is a instance of a class or a product which when created acquires the data and functions from the\n",
    "    class it is created.\n",
    "    Ex. Mammal is a class which has hair, gives direct birth to offspring while human is a member of class \n",
    "        mammal.\n",
    "\n",
    "Q2. Name the four pillars of OOPs.\n",
    "A2. Inheritance, Data abstraction, Encapsulation, Polymorphism.\n",
    "\n",
    "Q3. Explain why the __init__() function is used. Give a suitable example.\n",
    "A3. The __init__() function is used to create a constructor for the class.\n",
    "    Ex. class laptop():\n",
    "            def __init__(cl, cpu, gpu, ram):\n",
    "                cl.gpu1=gpu\n",
    "                cl.cpu1=cpu\n",
    "                cl.ram=ram\n",
    "Q4. Why self is used in OOPs?\n",
    "A4. Self is used in oops to bind the data and functions the class. We can use anyother word to bind.\n",
    "\n",
    "Q5. What is inheritance? Give an example for each type of inheritance.\n",
    "A5. Inheritance is the process of obtaining data and characteristics of a class to another class.            "
   ]
  },
  {
   "cell_type": "code",
   "execution_count": 4,
   "id": "25ebfaa0-2284-44b2-a29a-33064514ad73",
   "metadata": {},
   "outputs": [
    {
     "name": "stdout",
     "output_type": "stream",
     "text": [
      "I am above\n",
      "I am below\n"
     ]
    }
   ],
   "source": [
    "#Single inheritance\n",
    "class above():\n",
    "    def fun_above(self):\n",
    "        print('I am above')\n",
    "        \n",
    "class below(above):\n",
    "    def fun_below(self):\n",
    "        print(\"I am below\")\n",
    "\n",
    "t=below()\n",
    "t.fun_above()\n",
    "t.fun_below()"
   ]
  },
  {
   "cell_type": "code",
   "execution_count": 7,
   "id": "659acc54-8f7e-4ccf-919a-5baba36985ac",
   "metadata": {},
   "outputs": [
    {
     "name": "stdout",
     "output_type": "stream",
     "text": [
      "I have blue eyes\n",
      "I have red eyes\n"
     ]
    }
   ],
   "source": [
    "#Multiple inheritance\n",
    "class mom():\n",
    "    def eyesmom(self):\n",
    "        print('I have blue eyes')\n",
    "        \n",
    "class dad():\n",
    "    def eyesdad(self):\n",
    "        print('I have red eyes')\n",
    "\n",
    "class child(mom,dad):\n",
    "    pass\n",
    "        \n",
    "son=child()\n",
    "son.eyesmom()\n",
    "son.eyesdad()"
   ]
  },
  {
   "cell_type": "code",
   "execution_count": 9,
   "id": "5d4de688-7829-49fa-bfb7-517ad248452f",
   "metadata": {},
   "outputs": [
    {
     "name": "stdout",
     "output_type": "stream",
     "text": [
      "a3\n",
      "a2\n",
      "a1\n"
     ]
    }
   ],
   "source": [
    "#Multilevel inheritance\n",
    "class a1():\n",
    "    def f1(self):\n",
    "        print('a1')\n",
    "class a2(a1):\n",
    "    def f2(self):\n",
    "        print('a2')\n",
    "class a3(a2):\n",
    "    def f3(self):\n",
    "        print('a3')\n",
    "ob=a3()\n",
    "ob.f3()\n",
    "ob.f2()\n",
    "ob.f1()\n",
    "        \n",
    "    "
   ]
  },
  {
   "cell_type": "code",
   "execution_count": 10,
   "id": "fa765980-2380-4bf3-88b0-3ab8ebc9dc67",
   "metadata": {},
   "outputs": [
    {
     "name": "stdout",
     "output_type": "stream",
     "text": [
      "d\n",
      "b\n",
      "a\n"
     ]
    }
   ],
   "source": [
    "#Hierarchial inheritance\n",
    "class a():\n",
    "    def f1(self):\n",
    "        print('a')\n",
    "class b(a):\n",
    "    def f2(self):\n",
    "        print('b')\n",
    "class c(a):\n",
    "    def f3(self):\n",
    "        print('c')\n",
    "class d(b):\n",
    "    def f4(self):\n",
    "        print('d')\n",
    "ob=d()\n",
    "ob.f4()\n",
    "ob.f2()\n",
    "ob.f1()"
   ]
  },
  {
   "cell_type": "code",
   "execution_count": 12,
   "id": "0bf84a07-0d8e-4438-afac-6c22e75feabe",
   "metadata": {},
   "outputs": [
    {
     "name": "stdout",
     "output_type": "stream",
     "text": [
      "d\n",
      "b\n",
      "c\n",
      "a\n"
     ]
    }
   ],
   "source": [
    "#Hybrid inheritance\n",
    "class a():\n",
    "    def f1(self):\n",
    "        print('a')\n",
    "class b(a):\n",
    "    def f2(self):\n",
    "        print('b')\n",
    "class c(a):\n",
    "    def f3(self):\n",
    "        print('c')\n",
    "class d(b,c):\n",
    "    def f4(self):\n",
    "        print('d')\n",
    "ob=d()\n",
    "ob.f4()\n",
    "ob.f2()\n",
    "ob.f3()\n",
    "ob.f1()  "
   ]
  },
  {
   "cell_type": "code",
   "execution_count": null,
   "id": "d0a1dbba-d013-4cb8-baf1-238ec78d2c7e",
   "metadata": {},
   "outputs": [],
   "source": []
  }
 ],
 "metadata": {
  "kernelspec": {
   "display_name": "Python 3 (ipykernel)",
   "language": "python",
   "name": "python3"
  },
  "language_info": {
   "codemirror_mode": {
    "name": "ipython",
    "version": 3
   },
   "file_extension": ".py",
   "mimetype": "text/x-python",
   "name": "python",
   "nbconvert_exporter": "python",
   "pygments_lexer": "ipython3",
   "version": "3.10.8"
  }
 },
 "nbformat": 4,
 "nbformat_minor": 5
}
