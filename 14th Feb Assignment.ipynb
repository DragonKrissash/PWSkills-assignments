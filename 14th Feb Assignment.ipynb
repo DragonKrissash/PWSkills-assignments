{
 "cells": [
  {
   "cell_type": "code",
   "execution_count": null,
   "id": "3d043fb9-7997-4357-b855-668b1105ebe2",
   "metadata": {},
   "outputs": [],
   "source": [
    "Q1. What is multithreading in python? Why is it used? Name the module used to handle threads in python.\n",
    "A1. Multithreading is running many programs via different threads by cpu by rapidly switching among the threads.\n",
    "    Multithreading makes multitasking possible as sepearate processes are in seperate threads, if the cpu\n",
    "    is free from one thread it can simultaneously process the other thread and run the program. This way \n",
    "    less time will be consumed by cpu for executing all the processes.\n",
    "    The threading module is used to handle threads in python."
   ]
  },
  {
   "cell_type": "code",
   "execution_count": null,
   "id": "d0543a6c-3f81-485b-a322-4cfff04a1ed1",
   "metadata": {},
   "outputs": [],
   "source": [
    "Q2. Why threading module is used? Write the use of the following functions.\n",
    "A2. Threading module is used to implement threading options in python. It allows the user to speed up his work\n",
    "    by using multiple threads to execute each independent part of the program.\n",
    "    \n",
    "    activecount() - return the number of threads which are active\n",
    "    currentThread() - This return the current thread object which corresponds to caller's thread of control\n",
    "    enumerate() - This allows us to keep a track of the number of loops in a loop."
   ]
  },
  {
   "cell_type": "code",
   "execution_count": null,
   "id": "3fb12526-3121-46d2-ac80-3fca24797f28",
   "metadata": {},
   "outputs": [],
   "source": [
    "Q3. Explain the functions\n",
    "A3. run() - This method takes the form of target function passed to the thread object.\n",
    "    start() - This method begins the thread activity.\n",
    "    join() - This method takes all the strings and joins them into one string with which a seperator is \n",
    "             provided for joining.\n",
    "    isAlive() - This method helps us to check if a thread is running or not"
   ]
  },
  {
   "cell_type": "code",
   "execution_count": 1,
   "id": "a0df18ff-a02a-455c-81e5-ee1261684b2b",
   "metadata": {},
   "outputs": [
    {
     "name": "stdout",
     "output_type": "stream",
     "text": [
      "0\n",
      "1\n",
      "4\n",
      "9\n",
      "16\n"
     ]
    }
   ],
   "source": [
    "#Q4. Write a python program to create two threads. Thread one must print the list of squares and thread\n",
    "#two must print the list of cubes\n",
    "import threading\n",
    "def sq(n):\n",
    "    print(n**2)\n",
    "squares=[threading.Thread(target=sq,args=(i,)) for i in range(5)]\n",
    "for s in squares:\n",
    "    s.start()"
   ]
  },
  {
   "cell_type": "code",
   "execution_count": 2,
   "id": "f2aec075-598c-4ed4-b1ac-754c8711fa73",
   "metadata": {},
   "outputs": [
    {
     "name": "stdout",
     "output_type": "stream",
     "text": [
      "0\n",
      "1\n",
      "8\n",
      "27\n",
      "64\n"
     ]
    }
   ],
   "source": [
    "import threading\n",
    "def cube(n):\n",
    "    print(n**3)\n",
    "cubes=[threading.Thread(target=cube,args=(i,)) for i in range(5)]\n",
    "for c in cubes:\n",
    "    c.start()"
   ]
  },
  {
   "cell_type": "code",
   "execution_count": null,
   "id": "d311b36b-bde1-4c03-aeb2-43dd3770ad50",
   "metadata": {},
   "outputs": [],
   "source": [
    "Q5. State advantages and disadvantages of multithreading.\n",
    "A5. Advantages - Reduced processing time.\n",
    "                 Maximum utility of cpu.\n",
    "                 decreased cost of maintenance\n",
    "    Disadvantages - Complex debugging and testing\n",
    "                    Difficulty in writing program\n",
    "                    Unpredictable results"
   ]
  },
  {
   "cell_type": "code",
   "execution_count": null,
   "id": "d1372e73-8ed0-4f0f-883e-074a34ed709d",
   "metadata": {},
   "outputs": [],
   "source": [
    "Q6. Explain deadlocks and race conditions.\n",
    "A6. Deadlocks - It is a concurrent failure where a thread or many threads wait for a condition which never \n",
    "                occurs.\n",
    "    Race - This occurs when two or more threads are trying to access a shared piece of data at the same time."
   ]
  }
 ],
 "metadata": {
  "kernelspec": {
   "display_name": "Python 3 (ipykernel)",
   "language": "python",
   "name": "python3"
  },
  "language_info": {
   "codemirror_mode": {
    "name": "ipython",
    "version": 3
   },
   "file_extension": ".py",
   "mimetype": "text/x-python",
   "name": "python",
   "nbconvert_exporter": "python",
   "pygments_lexer": "ipython3",
   "version": "3.10.8"
  }
 },
 "nbformat": 4,
 "nbformat_minor": 5
}
