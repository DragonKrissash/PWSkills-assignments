{
 "cells": [
  {
   "cell_type": "code",
   "execution_count": 7,
   "id": "4644111a-4ea0-49b9-8779-61109ada6ab2",
   "metadata": {},
   "outputs": [],
   "source": [
    "#Question 1\n",
    "class vehicle:\n",
    "    def __init__(self,name_of_vehicle,max_speed,Average_of_vehicle):\n",
    "        self.name_of_vehicle=name_of_vehicle\n",
    "        self.max_speed=max_speed\n",
    "        self.Average_of_vehicle=Average_of_vehicle"
   ]
  },
  {
   "cell_type": "code",
   "execution_count": 16,
   "id": "011655b9-6928-482a-8349-31b16edaecea",
   "metadata": {},
   "outputs": [],
   "source": [
    "#Question 2\n",
    "class car(vehicle):\n",
    "    def seating_capacity(self,capacity):\n",
    "        return self.name_of_vehicle,capacity\n",
    "    "
   ]
  },
  {
   "cell_type": "code",
   "execution_count": 17,
   "id": "e70e045a-5a20-4201-a2a5-c216b97d7c3a",
   "metadata": {},
   "outputs": [],
   "source": [
    "c1=car('tesla',100,50)"
   ]
  },
  {
   "cell_type": "code",
   "execution_count": 18,
   "id": "78f0ff14-49c9-49e6-96d2-5078ba7f2325",
   "metadata": {},
   "outputs": [
    {
     "data": {
      "text/plain": [
       "('tesla', 4)"
      ]
     },
     "execution_count": 18,
     "metadata": {},
     "output_type": "execute_result"
    }
   ],
   "source": [
    "    c1.seating_capacity(4)"
   ]
  },
  {
   "cell_type": "code",
   "execution_count": 25,
   "id": "a3255860-93e1-4ed5-9126-cddb6c3d8de2",
   "metadata": {},
   "outputs": [],
   "source": [
    "#Q3. What is multiple inheritance? Write a python code to demonstrate multiple inheritance.\n",
    "#A3. If a class inherits data and functions from many classes then it is known as multiple inheritance.\n",
    "\n",
    "class mom:\n",
    "    def eyes(self):\n",
    "        return 'Blue eyes'\n",
    "class dad:\n",
    "    def nose(self):\n",
    "        return 'pointed nose'\n",
    "class child(mom,dad):\n",
    "    pass\n",
    "c1=child()"
   ]
  },
  {
   "cell_type": "code",
   "execution_count": 26,
   "id": "16073680-af4c-44cf-aefc-358e9ea9eee9",
   "metadata": {},
   "outputs": [
    {
     "data": {
      "text/plain": [
       "'Blue eyes'"
      ]
     },
     "execution_count": 26,
     "metadata": {},
     "output_type": "execute_result"
    }
   ],
   "source": [
    "c1.eyes()"
   ]
  },
  {
   "cell_type": "code",
   "execution_count": 27,
   "id": "71a7247f-5e40-49c8-bb3a-700c86c99fcf",
   "metadata": {},
   "outputs": [
    {
     "data": {
      "text/plain": [
       "'pointed nose'"
      ]
     },
     "execution_count": 27,
     "metadata": {},
     "output_type": "execute_result"
    }
   ],
   "source": [
    "c1.nose()"
   ]
  },
  {
   "cell_type": "code",
   "execution_count": null,
   "id": "8f3c1bd5-e1dd-4e0d-857e-03e0b494c2e0",
   "metadata": {},
   "outputs": [],
   "source": [
    "Q4. What are getter and setter in python? Create a class and create a getter and a setter method in this\n",
    "class.\n",
    "A4. Getter is method that allows the user to get access to a private data member of a class.\n",
    "    Setter is method that allows the user to modify and work with the private data member of a class.\n",
    "    "
   ]
  },
  {
   "cell_type": "code",
   "execution_count": 16,
   "id": "d944ec8e-78bd-4829-8c2c-d196b2584cdf",
   "metadata": {},
   "outputs": [],
   "source": [
    "class bank:\n",
    "    def __init__(self,balance):\n",
    "        self.__balance=balance\n",
    "    def bal_get(self):\n",
    "        return self.__balance\n",
    "    def bal_set(self,bal):\n",
    "        self.__balance=bal"
   ]
  },
  {
   "cell_type": "code",
   "execution_count": 19,
   "id": "a4b17aec-6507-406a-a1ca-a7a0ae29cdbf",
   "metadata": {},
   "outputs": [],
   "source": [
    "b=bank(5000)"
   ]
  },
  {
   "cell_type": "code",
   "execution_count": 26,
   "id": "113c2b92-8299-49c7-a2ce-dd77111a0212",
   "metadata": {},
   "outputs": [],
   "source": [
    "b.bal_set(6000)"
   ]
  },
  {
   "cell_type": "code",
   "execution_count": 27,
   "id": "8036fec2-47d6-4725-965e-63c41edbad2b",
   "metadata": {},
   "outputs": [
    {
     "data": {
      "text/plain": [
       "6000"
      ]
     },
     "execution_count": 27,
     "metadata": {},
     "output_type": "execute_result"
    }
   ],
   "source": [
    "b.bal_get()"
   ]
  },
  {
   "cell_type": "code",
   "execution_count": null,
   "id": "6a04404c-cdb6-4fc0-bb32-897fd993c784",
   "metadata": {},
   "outputs": [],
   "source": [
    "Q5. What is method overriding in python? Write a python code to demonstrate method overriding.\n",
    "A5. Method overriding is subclass or childclass has some attributes of the method of the parent class and \n",
    "    executes the parent class method during the run time which is known as method overriding.\n",
    "    "
   ]
  },
  {
   "cell_type": "code",
   "execution_count": 12,
   "id": "9e2815ac-374b-4e83-b2fd-241401a656e3",
   "metadata": {},
   "outputs": [],
   "source": [
    "class parent:\n",
    "    def show(self):\n",
    "        print('parent class')\n",
    "class child(parent):\n",
    "    def showme(self):\n",
    "        print('child class')"
   ]
  },
  {
   "cell_type": "code",
   "execution_count": 13,
   "id": "4c2421f0-de29-42e2-9a9d-eaf5b7756254",
   "metadata": {},
   "outputs": [],
   "source": [
    "son=child()"
   ]
  },
  {
   "cell_type": "code",
   "execution_count": 14,
   "id": "33de70f9-e927-4026-9732-0c48a99748a5",
   "metadata": {},
   "outputs": [
    {
     "name": "stdout",
     "output_type": "stream",
     "text": [
      "parent class\n",
      "child class\n"
     ]
    }
   ],
   "source": [
    "son.show()\n",
    "son.showme()"
   ]
  },
  {
   "cell_type": "code",
   "execution_count": null,
   "id": "2e015097-0437-4f74-84b2-a98a421ee186",
   "metadata": {},
   "outputs": [],
   "source": []
  }
 ],
 "metadata": {
  "kernelspec": {
   "display_name": "Python 3 (ipykernel)",
   "language": "python",
   "name": "python3"
  },
  "language_info": {
   "codemirror_mode": {
    "name": "ipython",
    "version": 3
   },
   "file_extension": ".py",
   "mimetype": "text/x-python",
   "name": "python",
   "nbconvert_exporter": "python",
   "pygments_lexer": "ipython3",
   "version": "3.10.8"
  }
 },
 "nbformat": 4,
 "nbformat_minor": 5
}
