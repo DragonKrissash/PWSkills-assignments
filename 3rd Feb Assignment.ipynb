{
 "cells": [
  {
   "cell_type": "raw",
   "id": "73e30d0b-99d9-41aa-a7de-ca5a8cdc329e",
   "metadata": {},
   "source": [
    "Q1. Which keyword is used to create a function?\n",
    "A1. The keyword 'def' is used to create a function.\n"
   ]
  },
  {
   "cell_type": "code",
   "execution_count": 6,
   "id": "82f875f6-5de9-407c-8754-5a3111b56d94",
   "metadata": {},
   "outputs": [],
   "source": [
    "#Question 1\n",
    "def func_odd():\n",
    "    return [i for i in range(1,26,2)]\n"
   ]
  },
  {
   "cell_type": "code",
   "execution_count": 7,
   "id": "b6fc9cbc-cf98-4826-a93e-b122fd26aee8",
   "metadata": {},
   "outputs": [
    {
     "data": {
      "text/plain": [
       "[1, 3, 5, 7, 9, 11, 13, 15, 17, 19, 21, 23, 25]"
      ]
     },
     "execution_count": 7,
     "metadata": {},
     "output_type": "execute_result"
    }
   ],
   "source": [
    "func_odd()\n"
   ]
  },
  {
   "cell_type": "raw",
   "id": "3bacdb2d-e024-4b52-b8ca-cda630c1b34c",
   "metadata": {},
   "source": [
    "Q2. Why *args and *kwargs are used in some functions?\n",
    "A2. *args is used in some functions to allow the function to take any number or type of data as arguments\n",
    "     and returns the final arguments in a tuple.\n",
    "    **kwargs is used in some functions to allow the function to take the input in form of keys and values\n",
    "    and returns the final arguments in a dictionary.\n",
    "     "
   ]
  },
  {
   "cell_type": "code",
   "execution_count": 14,
   "id": "a5287caf-f278-4c04-8d5f-d7809931d6de",
   "metadata": {},
   "outputs": [],
   "source": [
    "#Question 2\n",
    "def testf1(*args):\n",
    "    return args"
   ]
  },
  {
   "cell_type": "code",
   "execution_count": 13,
   "id": "4597c42e-1bcc-4f29-a722-438e3bcc2dae",
   "metadata": {},
   "outputs": [],
   "source": [
    "#Question 2\n",
    "def testf2(**kwargs):\n",
    "    return kwargs"
   ]
  },
  {
   "cell_type": "code",
   "execution_count": 15,
   "id": "f47c264f-01b5-427c-b475-835acecfd395",
   "metadata": {},
   "outputs": [
    {
     "data": {
      "text/plain": [
       "(2, 3, 4, 5)"
      ]
     },
     "execution_count": 15,
     "metadata": {},
     "output_type": "execute_result"
    }
   ],
   "source": [
    "testf1(2,3,4,5)"
   ]
  },
  {
   "cell_type": "code",
   "execution_count": 12,
   "id": "5ea6d979-e5b1-4272-8499-027333a61b63",
   "metadata": {},
   "outputs": [
    {
     "data": {
      "text/plain": [
       "{'a': 234, 'b': 'krishna', 'c': 345.45, 'd': (5+10j)}"
      ]
     },
     "execution_count": 12,
     "metadata": {},
     "output_type": "execute_result"
    }
   ],
   "source": [
    "testf2(a=234,b='krishna',c=345.45,d=5+10j)"
   ]
  },
  {
   "cell_type": "raw",
   "id": "175f9e96-0cb6-4081-ba5e-0aef24a41e30",
   "metadata": {},
   "source": [
    "Q3. What is an interator in Python? Name the method used to initialize the iterator and method used for\n",
    "    iteration.\n",
    "A3. Iterator is an object which allows us to iterate or loop over a collection of data.\n",
    "    iter() method is used to initialize the iterator. next() method is used for iteration in python."
   ]
  },
  {
   "cell_type": "code",
   "execution_count": 4,
   "id": "ab9db0b6-26f0-43a0-8f3d-c8f9d9d0f54a",
   "metadata": {},
   "outputs": [],
   "source": [
    "#Question 3\n",
    "l=[i for i in range(2,21,2)]\n",
    "ll=iter(l)"
   ]
  },
  {
   "cell_type": "code",
   "execution_count": 6,
   "id": "5e6f11e7-15c2-4be7-b1bb-97e12c35ec9f",
   "metadata": {},
   "outputs": [
    {
     "data": {
      "text/plain": [
       "2"
      ]
     },
     "execution_count": 6,
     "metadata": {},
     "output_type": "execute_result"
    }
   ],
   "source": [
    "next(ll)"
   ]
  },
  {
   "cell_type": "code",
   "execution_count": 7,
   "id": "6f15b689-4721-4e71-bb04-fdbc1c8e9e68",
   "metadata": {},
   "outputs": [
    {
     "data": {
      "text/plain": [
       "4"
      ]
     },
     "execution_count": 7,
     "metadata": {},
     "output_type": "execute_result"
    }
   ],
   "source": [
    "next(ll)"
   ]
  },
  {
   "cell_type": "code",
   "execution_count": 8,
   "id": "40c787cd-c4d4-4268-ba15-ac270340f88e",
   "metadata": {},
   "outputs": [
    {
     "data": {
      "text/plain": [
       "6"
      ]
     },
     "execution_count": 8,
     "metadata": {},
     "output_type": "execute_result"
    }
   ],
   "source": [
    "next(ll)"
   ]
  },
  {
   "cell_type": "code",
   "execution_count": 9,
   "id": "0daa682a-c55b-45e8-8d96-582fea40969b",
   "metadata": {},
   "outputs": [
    {
     "data": {
      "text/plain": [
       "8"
      ]
     },
     "execution_count": 9,
     "metadata": {},
     "output_type": "execute_result"
    }
   ],
   "source": [
    "next(ll)"
   ]
  },
  {
   "cell_type": "code",
   "execution_count": 10,
   "id": "d9e7c241-2cfd-4008-881a-94308cec5cd9",
   "metadata": {},
   "outputs": [
    {
     "data": {
      "text/plain": [
       "10"
      ]
     },
     "execution_count": 10,
     "metadata": {},
     "output_type": "execute_result"
    }
   ],
   "source": [
    "next(ll)"
   ]
  },
  {
   "cell_type": "raw",
   "id": "2b7ad91f-6893-499c-bdb1-ebed83d64f21",
   "metadata": {},
   "source": [
    "Q4. What is a generator function in python? Why yield keyword is used? Give an example.\n",
    "A4. Generator function is a function which helps us to create iterable functions whose execution is not\n",
    "    continuous.\n",
    "    Yield keyword is used instead of return to give back a value when the function is called.\n",
    "    Ex: (below)"
   ]
  },
  {
   "cell_type": "code",
   "execution_count": 18,
   "id": "261f77a9-3c77-43b2-a9e0-745569df9a75",
   "metadata": {},
   "outputs": [],
   "source": [
    "def gen():\n",
    "        a=0\n",
    "        while True:\n",
    "            yield a\n",
    "            a+=1"
   ]
  },
  {
   "cell_type": "code",
   "execution_count": 19,
   "id": "8c9198ad-0f5e-498b-9b0c-11978727f67e",
   "metadata": {},
   "outputs": [],
   "source": [
    "g=gen()"
   ]
  },
  {
   "cell_type": "code",
   "execution_count": 20,
   "id": "32e4ff6e-de4d-44e3-96de-793e50af17b4",
   "metadata": {},
   "outputs": [
    {
     "data": {
      "text/plain": [
       "generator"
      ]
     },
     "execution_count": 20,
     "metadata": {},
     "output_type": "execute_result"
    }
   ],
   "source": [
    "type(g)"
   ]
  },
  {
   "cell_type": "code",
   "execution_count": 21,
   "id": "cf978e04-665a-4aaa-ab03-870c52bd6d6f",
   "metadata": {},
   "outputs": [
    {
     "name": "stdout",
     "output_type": "stream",
     "text": [
      "0\n",
      "1\n",
      "2\n",
      "3\n",
      "4\n",
      "5\n",
      "6\n",
      "7\n",
      "8\n",
      "9\n"
     ]
    }
   ],
   "source": [
    "for i in range(10):\n",
    "    print(next(g))"
   ]
  },
  {
   "cell_type": "code",
   "execution_count": 29,
   "id": "efb065a9-95f8-4653-aae2-b515be0ef3ea",
   "metadata": {},
   "outputs": [],
   "source": [
    "#Question 5\n",
    "def prime():\n",
    "    a=2\n",
    "    while True:\n",
    "        factor=0\n",
    "        for num in range(1,a+1):\n",
    "            if a%num==0:\n",
    "                factor+=1\n",
    "        if factor==2:\n",
    "            yield a\n",
    "        a+=1        "
   ]
  },
  {
   "cell_type": "code",
   "execution_count": 30,
   "id": "b8ecff4f-f78c-4553-9402-643cbd991bdd",
   "metadata": {},
   "outputs": [],
   "source": [
    "p=prime()"
   ]
  },
  {
   "cell_type": "code",
   "execution_count": 32,
   "id": "2a63497d-7710-443e-b573-8c114a18f1ec",
   "metadata": {},
   "outputs": [
    {
     "name": "stdout",
     "output_type": "stream",
     "text": [
      "2\n",
      "3\n",
      "5\n",
      "7\n",
      "11\n",
      "13\n",
      "17\n",
      "19\n",
      "23\n",
      "29\n",
      "31\n",
      "37\n",
      "41\n",
      "43\n",
      "47\n",
      "53\n",
      "59\n",
      "61\n",
      "67\n",
      "71\n",
      "73\n"
     ]
    }
   ],
   "source": [
    "for i in range(21):\n",
    "    print(next(p))"
   ]
  },
  {
   "cell_type": "code",
   "execution_count": 33,
   "id": "11ae9ee8-f558-4aa6-b5c5-80ada440944e",
   "metadata": {},
   "outputs": [
    {
     "name": "stdout",
     "output_type": "stream",
     "text": [
      "0   1   1   2   3   5   8   13   21   34   "
     ]
    }
   ],
   "source": [
    "#Question 6\n",
    "a,b=0,1\n",
    "t=1\n",
    "while t<11:\n",
    "    print(a,\" \",end=' ')\n",
    "    a,b=b,a+b\n",
    "    t+=1"
   ]
  },
  {
   "cell_type": "code",
   "execution_count": 34,
   "id": "0cfbadc7-5b1d-4d99-ad7b-1ae7e5d6fc43",
   "metadata": {},
   "outputs": [
    {
     "data": {
      "text/plain": [
       "['p', 'w', 's', 'k', 'i', 'l', 'l', 's']"
      ]
     },
     "execution_count": 34,
     "metadata": {},
     "output_type": "execute_result"
    }
   ],
   "source": [
    "#Question 7\n",
    "[i for i in 'pwskills']"
   ]
  },
  {
   "cell_type": "code",
   "execution_count": 45,
   "id": "ea82368e-cd86-4f81-9bf0-80e04a47feb5",
   "metadata": {},
   "outputs": [
    {
     "name": "stdin",
     "output_type": "stream",
     "text": [
      "Enter a number to check palindrome or not 456654\n"
     ]
    },
    {
     "name": "stdout",
     "output_type": "stream",
     "text": [
      "The given number is palindrome\n"
     ]
    }
   ],
   "source": [
    "#Question 8\n",
    "n=int(input('Enter a number to check palindrome or not'))\n",
    "t=n\n",
    "ld=0\n",
    "newn=0\n",
    "while t>0:\n",
    "    ld=t%10\n",
    "    newn=newn*10+ld\n",
    "    t=int(t/10)\n",
    "if newn==n:\n",
    "    print(\"The given number is palindrome\")\n",
    "else :\n",
    "    print('The given number is not palindrome')"
   ]
  },
  {
   "cell_type": "code",
   "execution_count": 49,
   "id": "282c08be-f824-4521-a09b-6cc19fae4cc6",
   "metadata": {},
   "outputs": [
    {
     "data": {
      "text/plain": [
       "[1,\n",
       " 3,\n",
       " 5,\n",
       " 7,\n",
       " 9,\n",
       " 11,\n",
       " 13,\n",
       " 15,\n",
       " 17,\n",
       " 19,\n",
       " 21,\n",
       " 23,\n",
       " 25,\n",
       " 27,\n",
       " 29,\n",
       " 31,\n",
       " 33,\n",
       " 35,\n",
       " 37,\n",
       " 39,\n",
       " 41,\n",
       " 43,\n",
       " 45,\n",
       " 47,\n",
       " 49,\n",
       " 51,\n",
       " 53,\n",
       " 55,\n",
       " 57,\n",
       " 59,\n",
       " 61,\n",
       " 63,\n",
       " 65,\n",
       " 67,\n",
       " 69,\n",
       " 71,\n",
       " 73,\n",
       " 75,\n",
       " 77,\n",
       " 79,\n",
       " 81,\n",
       " 83,\n",
       " 85,\n",
       " 87,\n",
       " 89,\n",
       " 91,\n",
       " 93,\n",
       " 95,\n",
       " 97,\n",
       " 99]"
      ]
     },
     "execution_count": 49,
     "metadata": {},
     "output_type": "execute_result"
    }
   ],
   "source": [
    "#Question 10\n",
    "l=[i for i in range(1,101)]\n",
    "l1=[i for i in l if i%2!=0]\n",
    "l1"
   ]
  },
  {
   "cell_type": "code",
   "execution_count": null,
   "id": "f1112ae4-5fc5-427e-bca2-884ac5fdb584",
   "metadata": {},
   "outputs": [],
   "source": []
  }
 ],
 "metadata": {
  "kernelspec": {
   "display_name": "Python 3 (ipykernel)",
   "language": "python",
   "name": "python3"
  },
  "language_info": {
   "codemirror_mode": {
    "name": "ipython",
    "version": 3
   },
   "file_extension": ".py",
   "mimetype": "text/x-python",
   "name": "python",
   "nbconvert_exporter": "python",
   "pygments_lexer": "ipython3",
   "version": "3.10.8"
  }
 },
 "nbformat": 4,
 "nbformat_minor": 5
}
