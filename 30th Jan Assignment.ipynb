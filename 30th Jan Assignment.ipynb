{
 "cells": [
  {
   "cell_type": "code",
   "execution_count": 1,
   "id": "b80d3fc1-b72b-4e0e-864d-3b352265a070",
   "metadata": {},
   "outputs": [
    {
     "name": "stdin",
     "output_type": "stream",
     "text": [
      "Enter your marks in percentage 98\n"
     ]
    },
    {
     "name": "stdout",
     "output_type": "stream",
     "text": [
      "A\n"
     ]
    }
   ],
   "source": [
    "#Question 1\n",
    "marks=float(input(\"Enter your marks in percentage\"))\n",
    "if marks>90:\n",
    "    print(\"A\")\n",
    "elif marks>80 and marks<=90:\n",
    "    print('B')\n",
    "elif marks>=60 and marks<=80:\n",
    "    print('C')\n",
    "else:\n",
    "    print('D')\n",
    "    "
   ]
  },
  {
   "cell_type": "code",
   "execution_count": 6,
   "id": "583619bd-73d7-4d33-b7d8-6119d707fec5",
   "metadata": {},
   "outputs": [
    {
     "name": "stdin",
     "output_type": "stream",
     "text": [
      "Enter the cost price of your bike 75000\n"
     ]
    },
    {
     "name": "stdout",
     "output_type": "stream",
     "text": [
      "Tax: 7500.0\n"
     ]
    }
   ],
   "source": [
    "#Question 2\n",
    "cost=float(input(\"Enter the cost price of your bike\"))\n",
    "if cost > 100000:\n",
    "    print('Tax: '+str(0.15*cost))\n",
    "elif cost > 50000 and cost<= 100000:\n",
    "    print('Tax: '+str(0.1*cost))\n",
    "else: \n",
    "    print('Tax: '+str(0.05*cost))\n"
   ]
  },
  {
   "cell_type": "code",
   "execution_count": 14,
   "id": "51260d5d-f24b-4572-b3d5-3c06cbd5f8b3",
   "metadata": {},
   "outputs": [
    {
     "name": "stdin",
     "output_type": "stream",
     "text": [
      "Enter a city from delhi, agra, jaipur JAIPUR\n"
     ]
    },
    {
     "name": "stdout",
     "output_type": "stream",
     "text": [
      "Jal mahal\n"
     ]
    }
   ],
   "source": [
    "#Question 3\n",
    "city=['delhi','agra','jaipur']\n",
    "user_inp=input(\"Enter a city from delhi, agra, jaipur\")\n",
    "user_inp=user_inp.lower()\n",
    "if user_inp=='delhi':\n",
    "    print('Red fort')\n",
    "elif user_inp=='agra':\n",
    "    print('Taj mahal')\n",
    "elif user_inp=='jaipur':\n",
    "    print(\"Jal mahal\")\n",
    "else:\n",
    "    print(\"Wrong input\")\n",
    "    "
   ]
  },
  {
   "cell_type": "code",
   "execution_count": 4,
   "id": "e4e35e53-7e5a-4f4c-ad4a-38149255cde0",
   "metadata": {},
   "outputs": [
    {
     "name": "stdin",
     "output_type": "stream",
     "text": [
      "Enter a number to check how many times it can be divided by 3 before it is <=10 81\n"
     ]
    },
    {
     "name": "stdout",
     "output_type": "stream",
     "text": [
      "The number of times it is divisible by 3 before it is <=10 is  2\n"
     ]
    }
   ],
   "source": [
    "#Question 4\n",
    "n=int(input('Enter a number to check how many times it can be divided by 3 before it is <=10'))\n",
    "count=0\n",
    "while n>10:\n",
    "    if n%3==0:\n",
    "        count = count+1\n",
    "    else:\n",
    "        break\n",
    "    n=n/3\n",
    "print('The number of times it is divisible by 3 before it is <=10 is ',count)"
   ]
  },
  {
   "cell_type": "code",
   "execution_count": null,
   "id": "3bab07fb-4d7e-4b58-b25e-5b715270899a",
   "metadata": {},
   "outputs": [],
   "source": [
    "Q5. Why and when to use while loop in python? Give a description with example.\n",
    "A. We use while loop when we don't know how many times the loop should take place.\n",
    "   We use for loop for a limited number of times.\n",
    "    Ex: When we are finding the table of a number, we exactly know how many times to iterate the loop to           get the table.\n",
    "        But for situations like the previuos question to find how many times a number is divided by\n",
    "        3 before it is <=10, we can't exactly predict how many times the loop will occur.\n",
    "        In these situations while loop will be helpful.\n",
    "        We iterate until a specified condition is met and terminate the loop if the condition is false.\n",
    "        Like the previous answer the loop terminates when the value of 'n' will be <= 10.\n",
    "\n",
    "        "
   ]
  },
  {
   "cell_type": "code",
   "execution_count": 8,
   "id": "a079c5bb-669f-4efc-8633-13b5ee46c983",
   "metadata": {},
   "outputs": [
    {
     "name": "stdin",
     "output_type": "stream",
     "text": [
      "Enter a number 5\n"
     ]
    },
    {
     "name": "stdout",
     "output_type": "stream",
     "text": [
      "1 \n",
      "1 2 \n",
      "1 2 3 \n",
      "1 2 3 4 \n",
      "1 2 3 4 5 \n",
      "1 2 3 4 5 \n",
      "1 2 3 4 \n",
      "1 2 3 \n",
      "1 2 \n",
      "1 \n",
      "        1 \n",
      "      1 2 \n",
      "    1 2 3 \n",
      "  1 2 3 4 \n",
      "1 2 3 4 5 \n"
     ]
    }
   ],
   "source": [
    "#Question 6\n",
    "n=int(input('Enter a number'))\n",
    "a,b=1,1\n",
    "while a<=n:\n",
    "    b=1\n",
    "    while b<=a:\n",
    "        print(b,end=' ')\n",
    "        b=b+1\n",
    "    print()\n",
    "    a=a+1\n",
    "a=n    \n",
    "while a>0:\n",
    "    b=1\n",
    "    while b<=a:\n",
    "        print(b,end=' ')\n",
    "        b=b+1\n",
    "    print()\n",
    "    a=a-1\n",
    "    \n",
    "a=1\n",
    "d=n\n",
    "while a<=n:\n",
    "    b=1\n",
    "    while b<d:\n",
    "        print(' ',end=' ')\n",
    "        b=b+1\n",
    "    b=1\n",
    "    while b<=a:\n",
    "        print(b,end=' ')\n",
    "        b=b+1\n",
    "    print()\n",
    "    a=a+1\n",
    "    d=d-1"
   ]
  },
  {
   "cell_type": "code",
   "execution_count": 9,
   "id": "667fabe0-6eb1-40f9-a5ae-c2028e3577e5",
   "metadata": {},
   "outputs": [
    {
     "name": "stdout",
     "output_type": "stream",
     "text": [
      "10\n",
      "9\n",
      "8\n",
      "7\n",
      "6\n",
      "5\n",
      "4\n",
      "3\n",
      "2\n",
      "1\n"
     ]
    }
   ],
   "source": [
    "#Question 7 and 8 are the same\n",
    "n=10\n",
    "while n>0:\n",
    "    print(n)\n",
    "    n=n-1"
   ]
  },
  {
   "cell_type": "code",
   "execution_count": null,
   "id": "5417ae56-07ba-4e3f-a589-5a3645cb8b38",
   "metadata": {},
   "outputs": [],
   "source": []
  }
 ],
 "metadata": {
  "kernelspec": {
   "display_name": "Python 3 (ipykernel)",
   "language": "python",
   "name": "python3"
  },
  "language_info": {
   "codemirror_mode": {
    "name": "ipython",
    "version": 3
   },
   "file_extension": ".py",
   "mimetype": "text/x-python",
   "name": "python",
   "nbconvert_exporter": "python",
   "pygments_lexer": "ipython3",
   "version": "3.10.8"
  }
 },
 "nbformat": 4,
 "nbformat_minor": 5
}
