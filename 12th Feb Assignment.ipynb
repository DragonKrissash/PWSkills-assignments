{
 "cells": [
  {
   "cell_type": "code",
   "execution_count": null,
   "id": "d7b47724-43e0-4b4c-9c90-119bcf65d1dc",
   "metadata": {},
   "outputs": [],
   "source": [
    "Q1. What is an Exception in python? Write the difference between Exceptions and syntax errors?\n",
    "A1. An exception is a runtime error which occurs when the python executes the program stopping from \n",
    "    further execution.\n",
    "    Exceptions occur when the interpreter doesn't understand or stops interpreting due to faulty coding.\n",
    "    Syntax error occurs due to grammatical mistakes in coding language by the user."
   ]
  },
  {
   "cell_type": "code",
   "execution_count": null,
   "id": "13dd7af8-fa0e-44a3-977c-6437a676b953",
   "metadata": {},
   "outputs": [],
   "source": [
    "Q2. What happens when exception is not handled? Explain with an example.\n",
    "A2. When an exception is not handled, the program stops it's execution and gets stuck until it is checked."
   ]
  },
  {
   "cell_type": "code",
   "execution_count": 2,
   "id": "7f4b1f76-9338-4e13-92b5-d3b2a4e3c072",
   "metadata": {},
   "outputs": [
    {
     "ename": "ZeroDivisionError",
     "evalue": "division by zero",
     "output_type": "error",
     "traceback": [
      "\u001b[0;31m---------------------------------------------------------------------------\u001b[0m",
      "\u001b[0;31mZeroDivisionError\u001b[0m                         Traceback (most recent call last)",
      "Cell \u001b[0;32mIn[2], line 2\u001b[0m\n\u001b[1;32m      1\u001b[0m a,b\u001b[38;5;241m=\u001b[39m\u001b[38;5;241m2\u001b[39m,\u001b[38;5;241m1\u001b[39m\n\u001b[0;32m----> 2\u001b[0m \u001b[43m(\u001b[49m\u001b[43mb\u001b[49m\u001b[43m)\u001b[49m\u001b[38;5;241;43m/\u001b[39;49m\u001b[43m(\u001b[49m\u001b[43ma\u001b[49m\u001b[38;5;241;43m-\u001b[39;49m\u001b[43ma\u001b[49m\u001b[43m)\u001b[49m\n\u001b[1;32m      3\u001b[0m b\u001b[38;5;241m/\u001b[39ma\u001b[38;5;241m+\u001b[39ma\n",
      "\u001b[0;31mZeroDivisionError\u001b[0m: division by zero"
     ]
    }
   ],
   "source": [
    "a,b=2,1\n",
    "(b)/(a-a)\n",
    "b/a+a"
   ]
  },
  {
   "cell_type": "code",
   "execution_count": null,
   "id": "56cc5772-107e-4392-b294-e9a3fee46499",
   "metadata": {},
   "outputs": [],
   "source": [
    "In above code there is exception in line 2 due to which even line 3 is stopped from execution"
   ]
  },
  {
   "cell_type": "code",
   "execution_count": null,
   "id": "689cfbac-9ef9-4264-bb61-b73bb5200967",
   "metadata": {},
   "outputs": [],
   "source": [
    "Q3. Which python statements are used to catch and handle exception? Explain with example.\n",
    "A3. try and except statements are used to catch and handle exception."
   ]
  },
  {
   "cell_type": "code",
   "execution_count": 7,
   "id": "55de8d95-fe36-4783-8699-1590a6f0e9da",
   "metadata": {},
   "outputs": [
    {
     "name": "stdout",
     "output_type": "stream",
     "text": [
      "Can't divide by zero\n"
     ]
    }
   ],
   "source": [
    "try:\n",
    "    a,b=0,10\n",
    "    print(b/a)\n",
    "except Exception as e:\n",
    "    print(\"Can't divide by zero\")\n",
    "    \n"
   ]
  },
  {
   "cell_type": "code",
   "execution_count": null,
   "id": "64df88e5-6a5f-4c73-a8e5-939c86fe481f",
   "metadata": {},
   "outputs": [],
   "source": [
    "Q4. Explain with example.\n",
    "Q4. try and else - The code in try block is executed and if no error is ocurred then else block is executed."
   ]
  },
  {
   "cell_type": "code",
   "execution_count": 8,
   "id": "45d72912-8f1b-45a8-9ec4-c8a627c6a0f9",
   "metadata": {},
   "outputs": [
    {
     "name": "stdout",
     "output_type": "stream",
     "text": [
      "There is no error\n"
     ]
    }
   ],
   "source": [
    "try:\n",
    "    a,b=2,3\n",
    "    b/a\n",
    "except Exception as e:\n",
    "    a/b \n",
    "    print('The quotient in other case is not defined',e)\n",
    "else:\n",
    "    print ('There is no error')"
   ]
  },
  {
   "cell_type": "code",
   "execution_count": null,
   "id": "2d1b6ea9-6fd7-4c48-bc0c-3893113139aa",
   "metadata": {},
   "outputs": [],
   "source": [
    "    finally statement is used to execute the exception handling blocks and at the end finallly block is\n",
    "    executed."
   ]
  },
  {
   "cell_type": "code",
   "execution_count": 9,
   "id": "3bf6b41a-7513-42ca-8310-0f50aa4f43ac",
   "metadata": {},
   "outputs": [
    {
     "name": "stdout",
     "output_type": "stream",
     "text": [
      "There is no error\n",
      "This is final block\n"
     ]
    }
   ],
   "source": [
    "try:\n",
    "    a,b=2,3\n",
    "    b/a\n",
    "except Exception as e:\n",
    "    a/b \n",
    "    print('The quotient in other case is not defined',e)\n",
    "else:\n",
    "    print ('There is no error')\n",
    "finally:\n",
    "    print('This is final block')"
   ]
  },
  {
   "cell_type": "code",
   "execution_count": null,
   "id": "96de639a-2264-4b22-ad95-872ba73d592a",
   "metadata": {},
   "outputs": [],
   "source": [
    "raise keyword is used in custom file handling when the user wants to raise his own exception."
   ]
  },
  {
   "cell_type": "code",
   "execution_count": null,
   "id": "b41b6a82-5e2b-41b5-95b4-f8e30e3b74f8",
   "metadata": {},
   "outputs": [],
   "source": [
    "class negn(Exception):\n",
    "    def __init__(self,msg):\n",
    "        self.msg=msg\n",
    "def checkn(n):\n",
    "    if n<0:\n",
    "        raise('The number is negative')\n",
    "        "
   ]
  },
  {
   "cell_type": "code",
   "execution_count": null,
   "id": "927f7fd6-7dcd-4c26-8a50-93322e2f671f",
   "metadata": {},
   "outputs": [],
   "source": [
    "try:\n",
    "    a,b=2,3\n",
    "    b/a\n",
    "except Exception as e:\n",
    "    a/b \n",
    "    print('The quotient in other case is not defined',e)\n",
    "else:\n",
    "    print ('There is no error')"
   ]
  },
  {
   "cell_type": "code",
   "execution_count": null,
   "id": "1c68e61e-b987-4b58-9852-0b4f58b04818",
   "metadata": {},
   "outputs": [],
   "source": [
    "Q5. What are custom Exceptions in Python? Why do we need them? Explain with example.\n",
    "A5. User-defined exception are custom exceptions in python. We need them as per the code which we are writing.\n",
    "    Ex: Suppose we are checking for the eligibility to apply for voter id, if the age of the person is -ve\n",
    "        Then we should give an exception as the age cannot be negative."
   ]
  },
  {
   "cell_type": "code",
   "execution_count": null,
   "id": "01af2aea-9d10-4829-88c9-1339bab57616",
   "metadata": {},
   "outputs": [],
   "source": [
    "class check(Exception):\n",
    "    def __init__(self,msg):\n",
    "        self.msg=msg"
   ]
  },
  {
   "cell_type": "code",
   "execution_count": null,
   "id": "38e28424-c1fb-4af4-9b84-5fb44e9d021b",
   "metadata": {},
   "outputs": [],
   "source": [
    "def checkage(age):\n",
    "    if age<0:\n",
    "        raise check('Age cannot be negative')\n",
    "    else :\n",
    "        if age>=18:\n",
    "            print('You are eligible to apply')\n",
    "        else:\n",
    "            print('You are not eligible to apply')  "
   ]
  },
  {
   "cell_type": "code",
   "execution_count": null,
   "id": "6d1f09c8-e8eb-4c0e-9309-c773c0dfb0b0",
   "metadata": {},
   "outputs": [],
   "source": [
    "try:\n",
    "    age=int(input('Enter your age'))\n",
    "    checkage(age)\n",
    "except check as e:\n",
    "    print(e)"
   ]
  },
  {
   "cell_type": "code",
   "execution_count": null,
   "id": "53f74904-046d-428b-9d8d-3dcbb07b6bf8",
   "metadata": {},
   "outputs": [],
   "source": [
    "Enter your age -5\n",
    "Age cannot be negative"
   ]
  },
  {
   "cell_type": "code",
   "execution_count": null,
   "id": "10511f15-31ba-434d-98af-9e0a5ca5e4cd",
   "metadata": {},
   "outputs": [],
   "source": [
    "import logging"
   ]
  },
  {
   "cell_type": "code",
   "execution_count": null,
   "id": "604f70e3-1f82-4cca-bcbf-a8ea7393f880",
   "metadata": {},
   "outputs": [],
   "source": [
    "logging.basicConfig(filename='Exception.log',level=logging.INFO,format='%(asctime)s%(message)s%(name)s')"
   ]
  },
  {
   "cell_type": "code",
   "execution_count": null,
   "id": "a270c935-16e7-4d1b-be7b-8b8921d434e3",
   "metadata": {},
   "outputs": [],
   "source": [
    "#Question 6\n",
    "class check(Exception):\n",
    "    def __init__(self,msg):\n",
    "        self.msg=msg\n",
    "        \n",
    "logging.info(' Exception class created ')\n",
    "\n",
    "def checkamount(amt):\n",
    "    if amt<10001 and amt>-1:\n",
    "        raise check(\"Sorry you can't open an account in HDFC Bank\")\n",
    "    elif amt<0:\n",
    "        raise check(\"Money can't be negative\")\n",
    "    else:\n",
    "        print (\"Welcome to HDFC Bank\")\n",
    "\n",
    "logging.info(\" Checkamount function created \")\n",
    "        \n",
    "try :\n",
    "    logging.info(' Amount is given and checked ')\n",
    "    amt=int(input(\"Enter the amount with which you would like to start an account in HDFC\"))\n",
    "    checkamount(amt)\n",
    "except check as e:\n",
    "    logging.error(' Exception has occured ')\n",
    "    print (e)"
   ]
  },
  {
   "cell_type": "code",
   "execution_count": null,
   "id": "9564b1cc-6d00-4e14-8f6c-0c55a9f17a8c",
   "metadata": {},
   "outputs": [],
   "source": [
    "Enter the amount with which you would like to start an account in HDFC 10001\n",
    "Welcome to HDFC Bank"
   ]
  }
 ],
 "metadata": {
  "kernelspec": {
   "display_name": "Python 3 (ipykernel)",
   "language": "python",
   "name": "python3"
  },
  "language_info": {
   "codemirror_mode": {
    "name": "ipython",
    "version": 3
   },
   "file_extension": ".py",
   "mimetype": "text/x-python",
   "name": "python",
   "nbconvert_exporter": "python",
   "pygments_lexer": "ipython3",
   "version": "3.10.8"
  }
 },
 "nbformat": 4,
 "nbformat_minor": 5
}
