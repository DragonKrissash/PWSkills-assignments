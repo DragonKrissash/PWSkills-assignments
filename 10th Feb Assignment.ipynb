{
 "cells": [
  {
   "cell_type": "code",
   "execution_count": null,
   "id": "499f8aa0-19ff-4f1a-90d7-e86590a277ed",
   "metadata": {},
   "outputs": [],
   "source": [
    "Q1. Which function is used to open a file? What are the different modes of opening a file? Explain each mode\n",
    "of file opening.\n",
    "A1. The open() function is used to open a file. There are 7 modes of opening a file in python.\n",
    "    1) 'r' - this mode helps the user to open a file to read it.\n",
    "    2) 'w' - this mode helps the user to over write a existing file.\n",
    "    3) 'a' - this mode helps the user to append or continue writing in a file.\n",
    "    4) 'x' - this mode creates a new file and opens it for writing.\n",
    "    5) 'b' - this mode takes place in binary form.\n",
    "    6) 't' - this mode opens in text form.\n",
    "    7) '+' - this mode opens a disk file for updating.\n",
    "    8) 'U' - this mode opens for universal new line mode."
   ]
  },
  {
   "cell_type": "code",
   "execution_count": null,
   "id": "46312501-de76-49fb-a8b8-8a947da6aaf5",
   "metadata": {},
   "outputs": [],
   "source": [
    "Q2. Why close() function is used? Why is it important to close a file?\n",
    "A2. The close function is used to close a file which was opened. It is important to close a file as when we\n",
    "    write something in a file, it will be written but not updated in file but to view it, we need to close it."
   ]
  },
  {
   "cell_type": "code",
   "execution_count": 1,
   "id": "0ef205cd-576a-487d-9266-1cb39b675cac",
   "metadata": {},
   "outputs": [],
   "source": [
    "#Q3. Write a python program to create a text file. Write ‘I want to become a Data Scientist’ in that file.\n",
    "#Then close the file. Open this file and read the content of the file.\n",
    "\n",
    "f=open('q3.txt','w')"
   ]
  },
  {
   "cell_type": "code",
   "execution_count": 2,
   "id": "fae1d10d-b5d5-41ba-bc17-a05b829ebe07",
   "metadata": {},
   "outputs": [
    {
     "data": {
      "text/plain": [
       "33"
      ]
     },
     "execution_count": 2,
     "metadata": {},
     "output_type": "execute_result"
    }
   ],
   "source": [
    "f.write(\"I want to become a data scientist\")"
   ]
  },
  {
   "cell_type": "code",
   "execution_count": 3,
   "id": "e1f15419-dd1d-42de-8d88-b2e767394b4e",
   "metadata": {},
   "outputs": [],
   "source": [
    "f.close()"
   ]
  },
  {
   "cell_type": "code",
   "execution_count": 9,
   "id": "85b05088-d0b1-49e3-b644-6217bc1d2f9a",
   "metadata": {},
   "outputs": [],
   "source": [
    "f1=open('q3.txt')"
   ]
  },
  {
   "cell_type": "code",
   "execution_count": 10,
   "id": "7d3c3f82-41e5-47e1-94ab-f4f2fb46b612",
   "metadata": {},
   "outputs": [
    {
     "data": {
      "text/plain": [
       "'I want to become a data scientist'"
      ]
     },
     "execution_count": 10,
     "metadata": {},
     "output_type": "execute_result"
    }
   ],
   "source": [
    "f1.read()"
   ]
  },
  {
   "cell_type": "code",
   "execution_count": 88,
   "id": "a888a531-7d34-4340-8fb2-399ea5ad4aeb",
   "metadata": {},
   "outputs": [],
   "source": [
    "Q4. Explain the following with python code: read(), readline() and readlines().\n",
    "A4. The function read() reads entire text and returns the text in one single string.\n",
    "    The function readline() returns one line and moves on to the next line.\n",
    "    the function readlines() returns all the lines in text in a list of strings."
   ]
  },
  {
   "cell_type": "code",
   "execution_count": 5,
   "id": "7dd88fc8-50d8-42b6-9a3a-f069c22be39d",
   "metadata": {},
   "outputs": [],
   "source": [
    "f=open('q4.txt','w')"
   ]
  },
  {
   "cell_type": "code",
   "execution_count": 6,
   "id": "6139a4d9-08f1-4940-8576-f77e9274aaea",
   "metadata": {},
   "outputs": [
    {
     "data": {
      "text/plain": [
       "771"
      ]
     },
     "execution_count": 6,
     "metadata": {},
     "output_type": "execute_result"
    }
   ],
   "source": [
    "f.write(\"Data Science Masters course is highly curated and uniquely designed according to the latest industry standards.\\n This program instills students the skills essential to knowledge discovery efforts to identify standard, novel, and truly differentiated solutions and decision-making, including skills in managing, querying, analyzing, visualizing, and extracting meaning from extremely large data sets.\\n This trending program provides students with the statistical, mathematical and computational skills needed to meet the large-scale data science challenges of today's professional world. \\n You will learn all the stack required to work in data science industry including cloud infrastructure and real-time industry projects. \\n This course will be taught in Hindi language.\")"
   ]
  },
  {
   "cell_type": "code",
   "execution_count": 7,
   "id": "0c1fd239-a779-467b-9a47-56eddfa35b09",
   "metadata": {},
   "outputs": [],
   "source": [
    "f.close()"
   ]
  },
  {
   "cell_type": "code",
   "execution_count": 8,
   "id": "f71c8f7b-43d0-4533-bc1c-21873322d659",
   "metadata": {},
   "outputs": [],
   "source": [
    "f1=open('q4.txt','r')"
   ]
  },
  {
   "cell_type": "code",
   "execution_count": 9,
   "id": "737995d6-03d6-4363-b3f0-4e0acd360a48",
   "metadata": {},
   "outputs": [
    {
     "data": {
      "text/plain": [
       "0"
      ]
     },
     "execution_count": 9,
     "metadata": {},
     "output_type": "execute_result"
    }
   ],
   "source": [
    "f1.seek(0)"
   ]
  },
  {
   "cell_type": "code",
   "execution_count": 10,
   "id": "5276956b-663c-46e7-99f6-6086ce89287e",
   "metadata": {},
   "outputs": [
    {
     "data": {
      "text/plain": [
       "\"Data Science Masters course is highly curated and uniquely designed according to the latest industry standards.\\n This program instills students the skills essential to knowledge discovery efforts to identify standard, novel, and truly differentiated solutions and decision-making, including skills in managing, querying, analyzing, visualizing, and extracting meaning from extremely large data sets.\\n This trending program provides students with the statistical, mathematical and computational skills needed to meet the large-scale data science challenges of today's professional world. \\n You will learn all the stack required to work in data science industry including cloud infrastructure and real-time industry projects. \\n This course will be taught in Hindi language.\""
      ]
     },
     "execution_count": 10,
     "metadata": {},
     "output_type": "execute_result"
    }
   ],
   "source": [
    "f1.read()"
   ]
  },
  {
   "cell_type": "code",
   "execution_count": 11,
   "id": "fe90c5e2-f5f9-4a8d-86a5-d6f28768f760",
   "metadata": {},
   "outputs": [
    {
     "data": {
      "text/plain": [
       "0"
      ]
     },
     "execution_count": 11,
     "metadata": {},
     "output_type": "execute_result"
    }
   ],
   "source": [
    "f1.seek(0)"
   ]
  },
  {
   "cell_type": "code",
   "execution_count": 12,
   "id": "153085d6-c32d-419d-b5a5-b4329638b158",
   "metadata": {},
   "outputs": [
    {
     "data": {
      "text/plain": [
       "'Data Science Masters course is highly curated and uniquely designed according to the latest industry standards.\\n'"
      ]
     },
     "execution_count": 12,
     "metadata": {},
     "output_type": "execute_result"
    }
   ],
   "source": [
    "f1.readline()"
   ]
  },
  {
   "cell_type": "code",
   "execution_count": 13,
   "id": "be3bab8b-02cd-4eff-82a6-471f63bf9011",
   "metadata": {},
   "outputs": [
    {
     "data": {
      "text/plain": [
       "0"
      ]
     },
     "execution_count": 13,
     "metadata": {},
     "output_type": "execute_result"
    }
   ],
   "source": [
    "f1.seek(0)"
   ]
  },
  {
   "cell_type": "code",
   "execution_count": 14,
   "id": "b4dbee2c-9b87-4ef6-adab-9fc201e12ef1",
   "metadata": {},
   "outputs": [
    {
     "data": {
      "text/plain": [
       "['Data Science Masters course is highly curated and uniquely designed according to the latest industry standards.\\n',\n",
       " ' This program instills students the skills essential to knowledge discovery efforts to identify standard, novel, and truly differentiated solutions and decision-making, including skills in managing, querying, analyzing, visualizing, and extracting meaning from extremely large data sets.\\n',\n",
       " \" This trending program provides students with the statistical, mathematical and computational skills needed to meet the large-scale data science challenges of today's professional world. \\n\",\n",
       " ' You will learn all the stack required to work in data science industry including cloud infrastructure and real-time industry projects. \\n',\n",
       " ' This course will be taught in Hindi language.']"
      ]
     },
     "execution_count": 14,
     "metadata": {},
     "output_type": "execute_result"
    }
   ],
   "source": [
    "f1.readlines()"
   ]
  },
  {
   "cell_type": "code",
   "execution_count": null,
   "id": "f8aae8d3-cd36-4142-9ae3-da6d3935777d",
   "metadata": {},
   "outputs": [],
   "source": [
    "Q5. Explain why with statement is used with open(). What is the advantage of using with statement and\n",
    "open() together?\n",
    "A5. The with statement is used with open() to reduce the code written. Normally we need to close a file when\n",
    "    we are done with writing it using open statement but if we use with open statement, the with statement\n",
    "    closes the file for us without us writing extra code for close statement.\n",
    "    This is done as with statement calls 2 built-in functions __enter()__ and __exit()__ where the exit() \n",
    "    statement closes the file for us."
   ]
  },
  {
   "cell_type": "code",
   "execution_count": null,
   "id": "f8e330e2-dd3a-4c18-855e-c1f0b47cd50e",
   "metadata": {},
   "outputs": [],
   "source": [
    "Q6. Explain the write() and writelines() functions. Give a suitable example.\n",
    "A6. The write() function accepts a string and writes it to text file.\n",
    "    The writelines() function accepts a iterable or list of strings and writes it to text file."
   ]
  },
  {
   "cell_type": "code",
   "execution_count": 12,
   "id": "8dc3d2b6-ba4c-4e29-af6b-8a282630a2fc",
   "metadata": {},
   "outputs": [],
   "source": [
    "s1,s2,s3,s4='I','am','Krishna','Kishore'\n",
    "sfull=[s1,s2,s3,s4]"
   ]
  },
  {
   "cell_type": "code",
   "execution_count": 13,
   "id": "2a7e35a7-f202-4c89-9bc7-c75bc9f8b7e2",
   "metadata": {},
   "outputs": [
    {
     "ename": "TypeError",
     "evalue": "write() argument must be str, not list",
     "output_type": "error",
     "traceback": [
      "\u001b[0;31m---------------------------------------------------------------------------\u001b[0m",
      "\u001b[0;31mTypeError\u001b[0m                                 Traceback (most recent call last)",
      "Cell \u001b[0;32mIn[13], line 2\u001b[0m\n\u001b[1;32m      1\u001b[0m \u001b[38;5;28;01mwith\u001b[39;00m \u001b[38;5;28mopen\u001b[39m(\u001b[38;5;124m'\u001b[39m\u001b[38;5;124mq6.txt\u001b[39m\u001b[38;5;124m'\u001b[39m,\u001b[38;5;124m'\u001b[39m\u001b[38;5;124mw\u001b[39m\u001b[38;5;124m'\u001b[39m)\u001b[38;5;28;01mas\u001b[39;00m file:\n\u001b[0;32m----> 2\u001b[0m     \u001b[43mfile\u001b[49m\u001b[38;5;241;43m.\u001b[39;49m\u001b[43mwrite\u001b[49m\u001b[43m(\u001b[49m\u001b[43msfull\u001b[49m\u001b[43m)\u001b[49m\n",
      "\u001b[0;31mTypeError\u001b[0m: write() argument must be str, not list"
     ]
    }
   ],
   "source": [
    "#There is an error if I try to use the write function as it takes only 1 argument as string\n",
    "with open('q6.txt','w')as file:\n",
    "    file.write(sfull)"
   ]
  },
  {
   "cell_type": "code",
   "execution_count": 14,
   "id": "fab75210-3f80-4f4d-8879-a5df7047fa3f",
   "metadata": {},
   "outputs": [],
   "source": [
    "#There is no error if I use writelines function as it takes list of strings as input\n",
    "with open('q6.txt','w')as file:\n",
    "    file.writelines(sfull)"
   ]
  },
  {
   "cell_type": "code",
   "execution_count": 15,
   "id": "1b9ca4be-cf1d-4cd5-99ac-991d3e97e373",
   "metadata": {},
   "outputs": [],
   "source": [
    "f=open('q6.txt','r')"
   ]
  },
  {
   "cell_type": "code",
   "execution_count": 16,
   "id": "f44d8f68-f900-4345-8a5c-b96f6b7e4e83",
   "metadata": {},
   "outputs": [
    {
     "data": {
      "text/plain": [
       "'IamKrishnaKishore'"
      ]
     },
     "execution_count": 16,
     "metadata": {},
     "output_type": "execute_result"
    }
   ],
   "source": [
    "f.read()"
   ]
  }
 ],
 "metadata": {
  "kernelspec": {
   "display_name": "Python 3 (ipykernel)",
   "language": "python",
   "name": "python3"
  },
  "language_info": {
   "codemirror_mode": {
    "name": "ipython",
    "version": 3
   },
   "file_extension": ".py",
   "mimetype": "text/x-python",
   "name": "python",
   "nbconvert_exporter": "python",
   "pygments_lexer": "ipython3",
   "version": "3.10.8"
  }
 },
 "nbformat": 4,
 "nbformat_minor": 5
}
