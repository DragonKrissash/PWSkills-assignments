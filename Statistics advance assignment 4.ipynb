{
 "cells": [
  {
   "cell_type": "code",
   "execution_count": null,
   "id": "ea64b9bc-30be-466b-b9dd-718c3e657204",
   "metadata": {},
   "outputs": [],
   "source": [
    "Q1: What is the difference between a t-test and a z-test? Provide an example scenario where you would use \n",
    "    each type of test."
   ]
  },
  {
   "cell_type": "code",
   "execution_count": null,
   "id": "4a23bbb2-03be-4214-aeb1-957f1d6422ff",
   "metadata": {},
   "outputs": [],
   "source": [
    "A1: T-test is used when the sample size is small and population standard deviation is not known.\n",
    "    Eg: If we want to compare 2 groups of swimmers for testing of new suit for swimming, where one group is \n",
    "        given old swimsuit while other is given a new prototype. We will have to use t test to determine any \n",
    "        difference in performance since the groups are very small.\n",
    "    \n",
    "    Z-test is used when the sample size is very large (>30) and the population standard deviation is known.\n",
    "    Eg: Suppose we want to find the population mean height of a country, we have a sample size of 1000 people\n",
    "        and know their sample mean. We can use the population standard deviation from previous studies and since \n",
    "        the sample size is large we can use z test to calculate population mean."
   ]
  },
  {
   "cell_type": "code",
   "execution_count": null,
   "id": "a08bd3d0-3a9a-49e3-a621-92dc75ae6546",
   "metadata": {},
   "outputs": [],
   "source": [
    "Q2: Differentiate between one-tailed and two-tailed tests."
   ]
  },
  {
   "cell_type": "code",
   "execution_count": null,
   "id": "4c3d4f9c-24a6-4f03-80b9-48047ee64f59",
   "metadata": {},
   "outputs": [],
   "source": [
    "A2: One tailed test is known as directional test. The critical region is only on one side of the region.\n",
    "    One tail test is used when there is clear prediction or expectation of the direction of effect.\n",
    "    \n",
    "    Two tailed test is known as non-directional test. In a two tailed test the null hypothesis does not \n",
    "    specify the direction of the effect or difference between groups. Critical region is on both sides of \n",
    "    distribution, encompassing extreme values on both sides. "
   ]
  },
  {
   "cell_type": "code",
   "execution_count": null,
   "id": "00ef55f2-7e8b-4653-8af6-30d173e45357",
   "metadata": {},
   "outputs": [],
   "source": [
    "Q3: Explain the concept of Type 1 and Type 2 errors in hypothesis testing. Provide an example scenario for\n",
    "each type of error."
   ]
  },
  {
   "cell_type": "code",
   "execution_count": null,
   "id": "27bbf04f-2aef-4f85-b215-7f4fee27281b",
   "metadata": {},
   "outputs": [],
   "source": [
    "A3: Type 1 and 2 errors are common mistakes that can occur while making decisions based on results of \n",
    "    statistical test. \n",
    "    Type 1 error occurs when the null hypothesis is true but we reject it as per statistic value.\n",
    "    Eg: If a doctor is testing a medicine, he puts a significance value of 5% and makes null hypothesis as\n",
    "        drug has an effect and alternate hypothesis as drug has no effect. After analyzing the data, if the \n",
    "        doctor gets a p value of 3% then he rejects the null hypothesis and tells that drug has no effect. \n",
    "        This will become a type 1 error if in reality the drug will have an effect. \n",
    "        \n",
    "    Type 2 error occurs when the null hypothesis is false but we accept it as per statistic value. \n",
    "    Eg: By continuing the above example, if the drug has no effect but the statistical value proves us that\n",
    "        there is effect then we retain the null hypothesis."
   ]
  },
  {
   "cell_type": "code",
   "execution_count": null,
   "id": "b860826e-0788-458d-9a66-0505fdff1804",
   "metadata": {},
   "outputs": [],
   "source": [
    "Q4: Explain Bayes's theorem with an example."
   ]
  },
  {
   "cell_type": "code",
   "execution_count": null,
   "id": "33101793-8014-452d-bad5-2746007f491e",
   "metadata": {},
   "outputs": [],
   "source": [
    "A4: Baye's theorem is a concept in probability and statistics that describes how to update probability of a \n",
    "    hypothesis based on new information. It allows us to revise our beliefs or assessments based on new \n",
    "    information. \n",
    "    Eg: The monty hall problem. In a game show, the host Monty places 2 goats and a car randomly behind 3 \n",
    "        doors. We are asked to pick a door first, then Monty reveals a goat from other 2 doors. He then asks \n",
    "        us to stick to our original decision of door or change it. We can use baye's theorem to maximise \n",
    "        our chances of winning the car. "
   ]
  },
  {
   "cell_type": "code",
   "execution_count": null,
   "id": "deabaa28-ce84-4381-a5cc-d1225e522a7b",
   "metadata": {},
   "outputs": [],
   "source": [
    "Q5: What is a confidence interval? How to calculate the confidence interval, explain with an example."
   ]
  },
  {
   "cell_type": "code",
   "execution_count": null,
   "id": "67f24fc3-6f57-4f17-894d-ef8a891b6d51",
   "metadata": {},
   "outputs": [],
   "source": [
    "A5: A confidence interval is a range that provides an estimate of true value of a population parameter like\n",
    "    mean or proportion along with a level of confidence that the true value falls within that range. It is \n",
    "    a way to express uncertainty associated with sample estimates and allows researchers to make inferences\n",
    "    about population based on sample data. \n",
    "    Eg: We want to calculate the average age of customers visiting a coffee shop. We take a random sample of\n",
    "        100 customers and find that their average age is 35. We want to calculate a 95% confidence interval.\n",
    "        Assumption: \n",
    "        The population standard deviation is unknown so we use t-distribution for critical value.\n",
    "        The sample is random and representative.\n",
    "        \n",
    "        Steps:\n",
    "            1) Collect the sample: You collect data from 100 random customers and calculate their average age, \n",
    "               which is 35 years.\n",
    "            2) Compute the sample statistic: The sample mean (x̄) is 35 years.\n",
    "            3) Determine the confidence level: You choose a 95% confidence level, which corresponds to a \n",
    "               significance level (α) of 0.05.\n",
    "            4) Find the critical value: Since the sample size is 100, you'll use the t-distribution with 99 \n",
    "               degrees of freedom (df = n - 1). For a 95% confidence level and 99 df, the critical t-value is \n",
    "               approximately 1.984.\n",
    "            5) Calculate the margin of error: The standard error (SE) of the sample mean is the sample \n",
    "               standard deviation (s) divided by the square root of the sample size (n). Let's assume the \n",
    "               sample standard deviation is 5 years.\n",
    "                SE = s/sqrt(n)\n",
    "\n",
    "            The margin of error (ME) is calculated by multiplying the critical t-value by the standard error.\n",
    "                ME = 1.984×0.5 ≈ 0.992\n",
    "            \n",
    "            Calculate the confidence interval: The confidence interval is constructed by adding and subtracting \n",
    "            the margin of error from the sample mean.\n",
    "            \n",
    "            Confidence Interval= x ± ME = 35 ± 0.992\n",
    "            So, the 95% confidence interval for the average age of all customers who visit the coffee shop is \n",
    "            approximately 34.01 to 35.99 years. This means that we are 95% confident that the true average age of all \n",
    "            customers falls within this range based on the information from the sample."
   ]
  },
  {
   "cell_type": "code",
   "execution_count": null,
   "id": "79f9db81-1950-4421-84f6-ae9777c07057",
   "metadata": {},
   "outputs": [],
   "source": [
    "Q6. Use Bayes' Theorem to calculate the probability of an event occurring given prior knowledge of the event's \n",
    "    probability and new evidence. Provide a sample problem and solution."
   ]
  },
  {
   "cell_type": "code",
   "execution_count": null,
   "id": "30201147-9653-479c-9520-2d12431d308e",
   "metadata": {},
   "outputs": [],
   "source": [
    "A6. Suppose in a factory, 3 machines A, B and C are present. The probability of them producing a defective \n",
    "    item is 0.3, 0.2, 0.1. If an item produced is taken and is found to be defective then what is the \n",
    "    probability that the item was produced in machine A?\n",
    "    sol; probability of an item being defective is : (1/3)*(0.3+0.2+0.1) = (1/3)*(0.6)\n",
    "         probability of a defective item being produced from machine A is : (1/3)*(0.3)\n",
    "         Therefore the probability of defective item being produced from machine A is:\n",
    "                (1/3)*(0.3)/(1/3)*(0.6) = 0.5"
   ]
  },
  {
   "cell_type": "code",
   "execution_count": null,
   "id": "0cc817ab-68c8-4691-ac77-f95c271dbcf1",
   "metadata": {},
   "outputs": [],
   "source": [
    "Q7. Calculate the 95% confidence interval for a sample of data with a mean of 50 and a standard deviation of \n",
    "    5. Interpret the results."
   ]
  },
  {
   "cell_type": "code",
   "execution_count": 7,
   "id": "ae3dee35-8908-48e7-9dc7-27e040aeb2e9",
   "metadata": {},
   "outputs": [
    {
     "name": "stdout",
     "output_type": "stream",
     "text": [
      "The confidence interval for the sample is 49.999969010248385 and 50.000030989751615\n"
     ]
    }
   ],
   "source": [
    "import math\n",
    "from scipy.stats import norm\n",
    "ci=0.95\n",
    "mean=50\n",
    "a=0.05\n",
    "s=5\n",
    "n=100000000000 #Large number assumed\n",
    "z_score=norm.ppf(ci+a/2)\n",
    "mar_err=z_score*(s/math.sqrt(n)) #largenumber\n",
    "lbound=mean-mar_err\n",
    "ubound=mean+mar_err\n",
    "print('The confidence interval for the sample is',lbound,'and',ubound)"
   ]
  },
  {
   "cell_type": "code",
   "execution_count": null,
   "id": "a7568793-e050-4ed7-b693-23870130b6be",
   "metadata": {},
   "outputs": [],
   "source": [
    "Q8. What is the margin of error in a confidence interval? How does sample size affect the margin of error?\n",
    "Provide an example of a scenario where a larger sample size would result in a smaller margin of error."
   ]
  },
  {
   "cell_type": "code",
   "execution_count": null,
   "id": "9cfa96ab-a3ac-4fdc-8263-0223bd5e6c61",
   "metadata": {},
   "outputs": [],
   "source": [
    "A8. Margin of error in a confidence interval is the range within which the true population parameter is likely\n",
    "    to lie, given the sample data and specified level of confidence. It quantifies the uncertainty associated\n",
    "    with using a sample to estimate a population parameter, such as population mean or proportion. \n",
    "    If the sample size is very large, then margin of error becomes very low and vice versa. \n",
    "    \n",
    "    Eg: Let's consider the average test scores of students in a school. Suppose we want to estimate the mean \n",
    "        test score of all students in the school and construct a 95% confidence interval.\n",
    "        \n",
    "        Scenario 1: Sample size is 50 students\n",
    "        With a sample size of 50 students, we calculate the sample mean and standard deviation of the test \n",
    "        scores, and we find that the sample mean is 80, and the standard deviation is 10. We use the \n",
    "        t-distribution and find the critical t-value for a 95% confidence level with 49 degrees of freedom \n",
    "        (df = n - 1). Let's assume the critical t-value is 2.009.\n",
    "        \n",
    "        MOE = Critical t value * s/sqrt(n)\n",
    "        MOE = 2.009 * 10/sqrt(50) = 2.837\n",
    "        \n",
    "        The 95% confidence interval would be: 80 ± 2.837 or approximately (77.16, 82.84).\n",
    "        \n",
    "        Scenario 2: Sample size is 200 students\n",
    "        Now, let's consider a larger sample of 200 students from the same school. We again calculate the \n",
    "        sample mean and standard deviation of the test scores. Assuming the same standard deviation of 10 \n",
    "        for illustrative purposes, the critical t-value for a 95% confidence level with 199 degrees of \n",
    "        freedom (df = n - 1) is approximately 1.971.\n",
    "        The margin of error (MOE) for this larger sample is calculated as:\n",
    "        \n",
    "        MOE = 1.971 * 10/sqrt(200) = 1.396\n",
    "        \n",
    "        The 95% confidence interval would be: 80 ± 1.396 or approximately (78.604, 81.396).\n",
    "        \n",
    "        In this example, we see that with a larger sample size (200 students), the margin of error is smaller, \n",
    "        resulting in a narrower confidence interval. The larger sample provides more precise estimates of the \n",
    "        population mean, leading to a more confident and narrower range of likely values for the true average \n",
    "        test score of all students in the school."
   ]
  },
  {
   "cell_type": "code",
   "execution_count": null,
   "id": "625aeca2-d91d-4066-93b6-483bfa115501",
   "metadata": {},
   "outputs": [],
   "source": [
    "Q9. Calculate the z-score for a data point with a value of 75, a population mean of 70, and a population\n",
    "    standard deviation of 5. Interpret the results."
   ]
  },
  {
   "cell_type": "code",
   "execution_count": null,
   "id": "8922ec91-346b-480b-83ae-c6b014797935",
   "metadata": {},
   "outputs": [],
   "source": [
    "A9. z-score = (75-70)/5 = 1\n",
    "    The calculated z-score is 1. This z-score indicates that the data point (75) is 1 standard deviation \n",
    "    above the population mean (70). The positive sign indicates that the data point is greater than the mean. \n",
    "    Since the standard deviation is 5, a z-score of 1 corresponds to a value that is 5 units above the mean."
   ]
  },
  {
   "cell_type": "code",
   "execution_count": null,
   "id": "b041c7e2-4f3f-4b7b-a914-189345e6e140",
   "metadata": {},
   "outputs": [],
   "source": [
    "Q10. In a study of the effectiveness of a new weight loss drug, a sample of 50 participants lost an average\n",
    "of 6 pounds with a standard deviation of 2.5 pounds. Conduct a hypothesis test to determine if the drug is\n",
    "significantly effective at a 95% confidence level using a t-test."
   ]
  },
  {
   "cell_type": "code",
   "execution_count": 8,
   "id": "9bcd8cd0-66bf-4220-b643-f349ddbd0d13",
   "metadata": {},
   "outputs": [
    {
     "name": "stdout",
     "output_type": "stream",
     "text": [
      "Reject the null hypothesis.\n",
      "The weight loss drug is significantly effective at a 95% confidence level.\n"
     ]
    }
   ],
   "source": [
    "import numpy as np\n",
    "from scipy import stats\n",
    "n=50\n",
    "mean=6\n",
    "s=2.5\n",
    "ci=0.95\n",
    "a=0.05\n",
    "t_st=mean/(s/np.sqrt(n))\n",
    "dof=n-1\n",
    "crt_val=stats.t.ppf(1-a/2,dof)\n",
    "if abs(t_st)>crt_val:\n",
    "    print(\"Reject the null hypothesis.\")\n",
    "    print(\"The weight loss drug is significantly effective at a 95% confidence level.\")\n",
    "else:\n",
    "    print(\"Fail to reject the null hypothesis.\")\n",
    "    print(\"There is no significant evidence to conclude that the weight loss drug is effective at a 95% confidence level.\")"
   ]
  },
  {
   "cell_type": "code",
   "execution_count": null,
   "id": "68a71cc9-5703-4b3c-b308-46bd091858fc",
   "metadata": {},
   "outputs": [],
   "source": [
    "Q11. In a survey of 500 people, 65% reported being satisfied with their current job. Calculate the 95%\n",
    "confidence interval for the true proportion of people who are satisfied with their job."
   ]
  },
  {
   "cell_type": "code",
   "execution_count": 9,
   "id": "8887a788-0f65-475c-bc98-23b4e1ab8136",
   "metadata": {},
   "outputs": [
    {
     "name": "stdout",
     "output_type": "stream",
     "text": [
      "The true proportion of people satisfied with their job are between 63.218415129076234 66.78158487092377\n"
     ]
    }
   ],
   "source": [
    "from scipy.stats import norm\n",
    "import numpy as np\n",
    "n=500\n",
    "p=0.65\n",
    "se=np.sqrt(p*(1-p)/n)\n",
    "ci=0.95\n",
    "a=0.05\n",
    "z_sc=norm.cdf(ci+a/2)\n",
    "me=z_sc*se\n",
    "lbound=(p-me)*100\n",
    "ubound=(p+me)*100\n",
    "print('The true proportion of people satisfied with their job are between',lbound,ubound)\n"
   ]
  },
  {
   "cell_type": "code",
   "execution_count": null,
   "id": "f9554f89-2158-4343-8026-26881774735d",
   "metadata": {},
   "outputs": [],
   "source": [
    "Q12. A researcher is testing the effectiveness of two different teaching methods on student performance.\n",
    "Sample A has a mean score of 85 with a standard deviation of 6, while sample B has a mean score of 82\n",
    "with a standard deviation of 5. Conduct a hypothesis test to determine if the two teaching methods have a\n",
    "significant difference in student performance using a t-test with a significance level of 0.01."
   ]
  },
  {
   "cell_type": "code",
   "execution_count": 2,
   "id": "e8d78485-8271-4a78-a598-26d2bda18b86",
   "metadata": {},
   "outputs": [
    {
     "name": "stdout",
     "output_type": "stream",
     "text": [
      "Reject the null hypothesis.\n",
      "There is a significant difference in student performance between the two teaching methods.\n"
     ]
    }
   ],
   "source": [
    "import numpy as np\n",
    "from scipy import stats \n",
    "ma=85\n",
    "stda=6\n",
    "na=50\n",
    "mb=82\n",
    "stdb=5\n",
    "nb=50\n",
    "a=0.01\n",
    "ci=1-a\n",
    "pooled_std_err=np.sqrt((stda**2/na)+(stdb**2/nb))\n",
    "t_stat=(ma-mb)/pooled_std_err\n",
    "dof=na+nb-2\n",
    "crt_tval=stats.t.ppf(1-a/2,dof)\n",
    "if abs(t_stat) > crt_tval:\n",
    "    print(\"Reject the null hypothesis.\")\n",
    "    print(\"There is a significant difference in student performance between the two teaching methods.\")\n",
    "else:\n",
    "    print(\"Fail to reject the null hypothesis.\")\n",
    "    print(\"There is no significant evidence to conclude a difference in student performance between the two teaching methods.\")"
   ]
  },
  {
   "cell_type": "code",
   "execution_count": null,
   "id": "21b03da3-fed1-4526-acc8-bbdc5a1d8607",
   "metadata": {},
   "outputs": [],
   "source": [
    "Q13. A population has a mean of 60 and a standard deviation of 8. A sample of 50 observations has a mean\n",
    "of 65. Calculate the 90% confidence interval for the true population mean."
   ]
  },
  {
   "cell_type": "code",
   "execution_count": 3,
   "id": "c33c9c57-e8a6-450a-917b-a7d61e99ccec",
   "metadata": {},
   "outputs": [
    {
     "name": "stdout",
     "output_type": "stream",
     "text": [
      "The population mean lies with 90% confidence in the interval 58.13906055411732 61.86093944588268\n"
     ]
    }
   ],
   "source": [
    "from scipy.stats import norm\n",
    "mean=60\n",
    "std=8\n",
    "n=50\n",
    "x=65\n",
    "ci=0.90\n",
    "a=1-ci\n",
    "z_sc=norm.ppf(ci+a/2)\n",
    "se=std/(n**0.5)\n",
    "me=z_sc*se\n",
    "lbound=mean-me\n",
    "ubound=mean+me\n",
    "print('The population mean lies with 90% confidence in the interval',lbound,ubound)"
   ]
  },
  {
   "cell_type": "code",
   "execution_count": null,
   "id": "c69d672a-77a1-4663-bce9-3a74d4ef3db4",
   "metadata": {},
   "outputs": [],
   "source": [
    "Q14. In a study of the effects of caffeine on reaction time, a sample of 30 participants had an average\n",
    "reaction time of 0.25 seconds with a standard deviation of 0.05 seconds. Conduct a hypothesis test to\n",
    "determine if the caffeine has a significant effect on reaction time at a 90% confidence level using a t-test."
   ]
  },
  {
   "cell_type": "code",
   "execution_count": 3,
   "id": "84377b3c-b9a2-45dd-a067-13e1460117f0",
   "metadata": {},
   "outputs": [
    {
     "name": "stdout",
     "output_type": "stream",
     "text": [
      "Reject the null hypothesis\n",
      "Caffeine has significant effect on reaction time\n"
     ]
    }
   ],
   "source": [
    "from scipy import stats\n",
    "import numpy as np\n",
    "n=30\n",
    "dof=n-1\n",
    "mean=0.25\n",
    "s=0.05\n",
    "ci=0.90\n",
    "a=1-ci\n",
    "t_stat=mean/(s/np.sqrt(n))\n",
    "t_val=stats.t.ppf(1-a/2,dof)\n",
    "if abs(t_stat)>t_val:\n",
    "    print('Reject the null hypothesis')\n",
    "    print('Caffeine has significant effect on reaction time')\n",
    "else:\n",
    "    print('Accept the null hypothesis')\n",
    "    print('Caffeine has no effect on reaction time')"
   ]
  },
  {
   "cell_type": "code",
   "execution_count": null,
   "id": "8db936eb-43b5-4bed-b566-a6d47994c5cc",
   "metadata": {},
   "outputs": [],
   "source": []
  }
 ],
 "metadata": {
  "kernelspec": {
   "display_name": "Python 3 (ipykernel)",
   "language": "python",
   "name": "python3"
  },
  "language_info": {
   "codemirror_mode": {
    "name": "ipython",
    "version": 3
   },
   "file_extension": ".py",
   "mimetype": "text/x-python",
   "name": "python",
   "nbconvert_exporter": "python",
   "pygments_lexer": "ipython3",
   "version": "3.10.8"
  }
 },
 "nbformat": 4,
 "nbformat_minor": 5
}
