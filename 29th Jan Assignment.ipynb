{
 "cells": [
  {
   "cell_type": "code",
   "execution_count": null,
   "id": "729b174f-a87f-4849-8a0e-dc8c6abd3a46",
   "metadata": {},
   "outputs": [],
   "source": [
    "1. Who developed Python Programming Language? \n",
    "A. Python was developed by Guido Van Rossum\n",
    "\n",
    "2. Which type of programming does Python support?\n",
    "A. Python like Java supports Object Oriented Programming Language.\n",
    "\n",
    "3. Is Python case sensitive while dealing with identifiers?\n",
    "A. Yes python is case sensitive while dealing with identifiers.\n",
    "\n",
    "4. What is the correct extension of Pythom file?\n",
    "A. The correct extension of python file is .pyc.\n",
    "\n",
    "5. Is Python code compiled or interpreted?\n",
    "A. Unlike Java Python does not have a JVM so it has only interpreter and therefore the code is only interpreted.\n",
    "\n",
    "6. Name a few blocks of code used to define in Python language.\n",
    "A. A module, function body, class definition are few blocks of code used to define in Python.\n",
    "\n",
    "7. State a character used to give a single line comments in Python.\n",
    "A. '#' - hash is a character used to give single line comment in python.\n",
    "\n",
    "8. Mention the functions which help us find the version of python we are working on.\n",
    "A. The function 'Sys.version' help us find the version of python we are working on.\n",
    "\n",
    "9. Python supports creation of anonymous functions at runtime, using a construct called \n",
    "   'lambda'\n",
    "    \n",
    "10. What does pip stand for python?\n",
    "A. Pip is a acronym for python install packages used for installing python packages.\n",
    " \n",
    "11. Mention a few built-in functions in Python.\n",
    "A. print(), int(), list(), type()\n",
    "\n",
    "12. What is the maximum possible length of an identifier in Python?\n",
    "A. The max length of an indentifier in python can be upto 79 characters.\n",
    "\n",
    "13. What are the benefits of using Python?\n",
    "A. Python is a much easier language compared to other programming language.\n",
    "   It is an OOP where the objects and classes are present which prevent the global flow of data and make it user friendly.\n",
    "   Python helps the user by showing him the errors, helps in finding the required functions.\n",
    "\n",
    "14. How is memory managed in python?\n",
    "A. Python has a dynamic memory and is managed by heap data structure which holds the objects and functions used in programming.\n",
    "   The memory manager manages the allocation and de-allocation of memory while working in python.\n",
    "\n",
    "15. How to install python on windows and set path variables?\n",
    "A. We can download and install python on windos from their official website.\n",
    "   I didn't get any error regarding the path variables but we need to enter the entire path of the executable file while running the command \n",
    "   prompt like this C:\\Users\\Educative\\AppData\\Local\\Programs\\Python\\Python39\n",
    "\n",
    "16. Is indentation required in python?\n",
    "A. Yes indentation is required in Python as python doesn't use brackets or semi colon for line termination like Java\n"
   ]
  }
 ],
 "metadata": {
  "kernelspec": {
   "display_name": "Python 3 (ipykernel)",
   "language": "python",
   "name": "python3"
  },
  "language_info": {
   "codemirror_mode": {
    "name": "ipython",
    "version": 3
   },
   "file_extension": ".py",
   "mimetype": "text/x-python",
   "name": "python",
   "nbconvert_exporter": "python",
   "pygments_lexer": "ipython3",
   "version": "3.10.8"
  }
 },
 "nbformat": 4,
 "nbformat_minor": 5
}
