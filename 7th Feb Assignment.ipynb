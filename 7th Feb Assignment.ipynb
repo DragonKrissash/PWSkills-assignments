{
 "cells": [
  {
   "cell_type": "code",
   "execution_count": 9,
   "id": "4f6ca2e9-67f3-46df-9a04-921b8758cfdc",
   "metadata": {},
   "outputs": [
    {
     "name": "stdin",
     "output_type": "stream",
     "text": [
      "Enter a password AAcc12$$$a\n"
     ]
    },
    {
     "name": "stdout",
     "output_type": "stream",
     "text": [
      "Valid Password\n"
     ]
    }
   ],
   "source": [
    "#Question 1\n",
    "pword=str(input(\"Enter a password\"))\n",
    "up,lo,num,spc=0,0,0,0\n",
    "for i in pword:\n",
    "    if i.isupper():\n",
    "        up=up+1\n",
    "    elif i.islower():\n",
    "        lo=lo+1\n",
    "    elif i.isnumeric():\n",
    "        num=num+1\n",
    "    elif i==' ' or i==',' or i=='.' or i==';' or i==':' :\n",
    "        pass\n",
    "    else:\n",
    "        spc=spc+1\n",
    "if up>=2 and lo>=2 and num>=1 and len(pword)==10 and spc==3:\n",
    "    print('Valid Password')\n",
    "else:\n",
    "    print('Invalid Password')"
   ]
  },
  {
   "cell_type": "code",
   "execution_count": 12,
   "id": "afe0babb-ed71-4300-a9ac-ff91a28604f9",
   "metadata": {},
   "outputs": [
    {
     "name": "stdin",
     "output_type": "stream",
     "text": [
      "Enter a word spider\n",
      "Enter the character to check if the word begins with it or not s\n"
     ]
    },
    {
     "name": "stdout",
     "output_type": "stream",
     "text": [
      "True\n"
     ]
    }
   ],
   "source": [
    "#Question 2\n",
    "\n",
    "#Check if the string starts with a particular letter\n",
    "word=str(input('Enter a word'))\n",
    "ch=str(input('Enter the character to check if the word begins with it or not'))\n",
    "y=lambda x,y: True if x[0]==y else False\n",
    "print(y(word,ch))"
   ]
  },
  {
   "cell_type": "code",
   "execution_count": 25,
   "id": "4d0b27f1-dca5-456f-84c9-d8b599f7d204",
   "metadata": {},
   "outputs": [
    {
     "data": {
      "text/plain": [
       "False"
      ]
     },
     "execution_count": 25,
     "metadata": {},
     "output_type": "execute_result"
    }
   ],
   "source": [
    "#Check if the string is numeric\n",
    "y=lambda x:True if x.isnumeric() else False\n",
    "y('p1')"
   ]
  },
  {
   "cell_type": "code",
   "execution_count": 52,
   "id": "6ccbcced-1098-461f-a3f9-3f3dd544d517",
   "metadata": {},
   "outputs": [
    {
     "name": "stdout",
     "output_type": "stream",
     "text": [
      "[('orange', 80), ('mango', 99), ('grapes', 1000)]\n"
     ]
    }
   ],
   "source": [
    "#Sort a list of tuples having fruit names and their quantity.\n",
    "l=[(\"mango\",99),(\"orange\",80), (\"grapes\", 1000)]\n",
    "from functools import reduce\n",
    "l2=[]\n",
    "le=len(l)\n",
    "for i in range(le):\n",
    "    if len(l)==1:\n",
    "        l2.append(l[0])\n",
    "    else:\n",
    "        j=reduce(lambda x,y:x if x[1]<y[1] else y,l)\n",
    "        l2.append(j)\n",
    "        l.remove(j)\n",
    "        \n",
    "print(l2)\n"
   ]
  },
  {
   "cell_type": "code",
   "execution_count": 58,
   "id": "af6814e1-d602-441a-9b55-354e22a322b0",
   "metadata": {},
   "outputs": [
    {
     "data": {
      "text/plain": [
       "[1, 4, 9, 16, 25, 36, 49, 64, 81, 100]"
      ]
     },
     "execution_count": 58,
     "metadata": {},
     "output_type": "execute_result"
    }
   ],
   "source": [
    "#Find the squares of numbers from 1 to 10\n",
    "list([i**2 for i in range(1,11)])"
   ]
  },
  {
   "cell_type": "code",
   "execution_count": 59,
   "id": "d222a672-4ea9-4483-8d05-c513e3a86d3c",
   "metadata": {},
   "outputs": [
    {
     "data": {
      "text/plain": [
       "[1.0,\n",
       " 1.2599210498948732,\n",
       " 1.4422495703074083,\n",
       " 1.5874010519681994,\n",
       " 1.7099759466766968,\n",
       " 1.8171205928321397,\n",
       " 1.912931182772389,\n",
       " 2.0,\n",
       " 2.080083823051904,\n",
       " 2.154434690031884]"
      ]
     },
     "execution_count": 59,
     "metadata": {},
     "output_type": "execute_result"
    }
   ],
   "source": [
    "#Find the cube root of numbers from 1 to 10\n",
    "list([i**(1/3) for i in range(1,11)])"
   ]
  },
  {
   "cell_type": "code",
   "execution_count": 60,
   "id": "890c1dc1-4ce7-4f9b-a91f-0920c8615cf9",
   "metadata": {},
   "outputs": [
    {
     "data": {
      "text/plain": [
       "True"
      ]
     },
     "execution_count": 60,
     "metadata": {},
     "output_type": "execute_result"
    }
   ],
   "source": [
    "#Check if a given number is even\n",
    "y=lambda x:True if x%2==0 else False\n",
    "y(2)"
   ]
  },
  {
   "cell_type": "code",
   "execution_count": 62,
   "id": "6329ccda-f862-41bb-b834-95e5b3032583",
   "metadata": {},
   "outputs": [
    {
     "data": {
      "text/plain": [
       "[1, 3, 5, 7, 9]"
      ]
     },
     "execution_count": 62,
     "metadata": {},
     "output_type": "execute_result"
    }
   ],
   "source": [
    "#Filter odd numbers from the given list\n",
    "l=[1,2,3,4,5,6,7,8,9,10]\n",
    "list(filter(lambda x: x%2!=0,l))"
   ]
  },
  {
   "cell_type": "code",
   "execution_count": null,
   "id": "af2c8e7c-9f69-4daf-8f2c-cad34dfbdcb0",
   "metadata": {},
   "outputs": [],
   "source": [
    "#Sort a list of integers into positive and negative integers lists\n",
    "l=[1,2,3,4,5,6,-1,-2,-3,-4,-5,0]\n",
    "lpo,le=[]\n"
   ]
  }
 ],
 "metadata": {
  "kernelspec": {
   "display_name": "Python 3 (ipykernel)",
   "language": "python",
   "name": "python3"
  },
  "language_info": {
   "codemirror_mode": {
    "name": "ipython",
    "version": 3
   },
   "file_extension": ".py",
   "mimetype": "text/x-python",
   "name": "python",
   "nbconvert_exporter": "python",
   "pygments_lexer": "ipython3",
   "version": "3.10.8"
  }
 },
 "nbformat": 4,
 "nbformat_minor": 5
}
