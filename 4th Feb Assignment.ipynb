{
 "cells": [
  {
   "cell_type": "code",
   "execution_count": 63,
   "id": "a96ee646-1ec2-4b49-b7b7-741a2cc866b0",
   "metadata": {},
   "outputs": [
    {
     "name": "stdout",
     "output_type": "stream",
     "text": [
      "[('Virat Kohli', 24936), ('Jack Callis', 25534), ('Ricky Ponting', 27483), [('Sachin Tendulkar', 34357)]]\n"
     ]
    }
   ],
   "source": [
    "#Question 1 The most tough question i encountered until now in python\n",
    "l=[('Sachin Tendulkar',34357),('Ricky Ponting',27483),('Jack Callis',25534),('Virat Kohli',24936)]\n",
    "from functools import reduce\n",
    "l2=[]\n",
    "for i in range(len(l)):\n",
    "        if len(l)>1:\n",
    "            l1=reduce(lambda x,y:x[1] if x[1]<y[1] else y,l)\n",
    "            l2.append(l1)\n",
    "            l.remove(l1)\n",
    "        else:\n",
    "            l1=l\n",
    "            l2.append(l1)\n",
    "print(l2)            \n",
    "       "
   ]
  },
  {
   "cell_type": "code",
   "execution_count": 64,
   "id": "6b05a6b2-e8ca-4d25-ba52-9a4ca2e7d406",
   "metadata": {},
   "outputs": [
    {
     "data": {
      "text/plain": [
       "[1, 4, 9, 16, 25, 36, 49, 64, 81, 100]"
      ]
     },
     "execution_count": 64,
     "metadata": {},
     "output_type": "execute_result"
    }
   ],
   "source": [
    "#Question 2\n",
    "l=[1,2,3,4,5,6,7,8,9,10]\n",
    "list(map(lambda x:x**2,l))"
   ]
  },
  {
   "cell_type": "code",
   "execution_count": 67,
   "id": "c703c8ab-08f3-4a5b-91cf-0d5010bcd8e8",
   "metadata": {},
   "outputs": [
    {
     "data": {
      "text/plain": [
       "('1', '2', '3', '4', '5', '6', '7', '8', '9', '10')"
      ]
     },
     "execution_count": 67,
     "metadata": {},
     "output_type": "execute_result"
    }
   ],
   "source": [
    "#Question 3\n",
    "l=[i for i in range(1,11)]\n",
    "tuple(map(lambda x:str(x),l))"
   ]
  },
  {
   "cell_type": "code",
   "execution_count": 69,
   "id": "daeb1839-3d7d-481c-89cc-d5b704897a3a",
   "metadata": {},
   "outputs": [
    {
     "data": {
      "text/plain": [
       "15511210043330985984000000"
      ]
     },
     "execution_count": 69,
     "metadata": {},
     "output_type": "execute_result"
    }
   ],
   "source": [
    "#Question 4\n",
    "l=[i for i in range(1,26)]\n",
    "from functools import reduce\n",
    "prod=reduce(lambda x,y:x*y,l)\n",
    "prod"
   ]
  },
  {
   "cell_type": "code",
   "execution_count": 2,
   "id": "ac8dfbef-1c61-4d74-bbcf-5b2cd61966af",
   "metadata": {},
   "outputs": [
    {
     "data": {
      "text/plain": [
       "[6, 60, 90, 120]"
      ]
     },
     "execution_count": 2,
     "metadata": {},
     "output_type": "execute_result"
    }
   ],
   "source": [
    "#Question 5\n",
    "l=[2, 3, 6, 9, 27, 60, 90, 120, 55, 46]\n",
    "list(filter(lambda x: x%2==0 and x%3==0,l))\n"
   ]
  },
  {
   "cell_type": "code",
   "execution_count": 7,
   "id": "0e8e21fd-7caf-4f2b-9c43-37ba5922a511",
   "metadata": {},
   "outputs": [
    {
     "data": {
      "text/plain": [
       "['php', 'aba', 'radar', 'level']"
      ]
     },
     "execution_count": 7,
     "metadata": {},
     "output_type": "execute_result"
    }
   ],
   "source": [
    "#Question 6\n",
    "l=['python', 'php', 'aba', 'radar', 'level']\n",
    "list(filter(lambda x: x==x[::-1],l))"
   ]
  },
  {
   "cell_type": "code",
   "execution_count": null,
   "id": "a3da470f-a562-4229-90fd-9e5aefdb6fd4",
   "metadata": {},
   "outputs": [],
   "source": []
  },
  {
   "cell_type": "code",
   "execution_count": null,
   "id": "fe60e252-d835-46be-8bb2-b1cd3b9acf5f",
   "metadata": {},
   "outputs": [],
   "source": []
  }
 ],
 "metadata": {
  "kernelspec": {
   "display_name": "Python 3 (ipykernel)",
   "language": "python",
   "name": "python3"
  },
  "language_info": {
   "codemirror_mode": {
    "name": "ipython",
    "version": 3
   },
   "file_extension": ".py",
   "mimetype": "text/x-python",
   "name": "python",
   "nbconvert_exporter": "python",
   "pygments_lexer": "ipython3",
   "version": "3.10.8"
  }
 },
 "nbformat": 4,
 "nbformat_minor": 5
}
