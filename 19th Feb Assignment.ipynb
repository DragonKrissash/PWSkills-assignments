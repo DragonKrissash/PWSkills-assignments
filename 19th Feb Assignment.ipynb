{
 "cells": [
  {
   "cell_type": "code",
   "execution_count": null,
   "id": "adcf1106-7758-41d7-bcdf-a9c5760dcb14",
   "metadata": {},
   "outputs": [],
   "source": [
    "Q1. What is Flask Framework? What are the advantages of Flask Framework?\n",
    "A1. Flask is a lightweight web framework for python that allows us to build web applications quickly and \n",
    "    easily. It is designed to be simple and minimalistic providing the basic tool needed to create a web \n",
    "    application. \n",
    "    Flask provides built-in routing system that maps urls to python functions, allowing us to define how \n",
    "    different url should be handled by application.\n",
    "    Flask has built-in tools which help us test and fix any issues in the code. It has built-in server which \n",
    "    automatically refreshes the app whenever there's a change made, making the process of testing and debugging\n",
    "    faster and simpler.\n",
    "    There are many developers who use flask, whenever we have a doubt or issue, it can be cleared by accessing\n",
    "    the community."
   ]
  },
  {
   "cell_type": "code",
   "execution_count": null,
   "id": "0d696840-ee33-4f95-afad-5b29dadc9d45",
   "metadata": {},
   "outputs": [],
   "source": [
    "Q2. Create a simple Flask application to display ‘Hello World!!’. Attach the screenshot of the output in\n",
    "Jupyter Notebook.\n",
    "A2. https://github.com/DragonKrissash/PWSkills-assignments/blob/main/Screenshot%202023-06-14%20171120.png"
   ]
  },
  {
   "cell_type": "code",
   "execution_count": null,
   "id": "60af039e-251c-4e43-9e30-4e753d7b577d",
   "metadata": {},
   "outputs": [],
   "source": [
    "Q3. What is App routing in Flask? Why do we use app routes?\n",
    "A3. App routing is mapping special urls to functions to view them in web applications. We use app routes to \n",
    "    define special routes or urls to special functions of a program to execute the functions when the user \n",
    "    visits a particular URL."
   ]
  },
  {
   "cell_type": "code",
   "execution_count": null,
   "id": "48a16560-1d13-430a-8ad3-a7a70cc2b400",
   "metadata": {},
   "outputs": [],
   "source": [
    "Q4. Create a “/welcome” route to display the welcome message “Welcome to ABC Corporation” and a “/”\n",
    "    route to show the following details:\n",
    "    Company Name: ABC Corporation\n",
    "    Location: India\n",
    "    Contact Detail: 999-999-9999"
   ]
  },
  {
   "cell_type": "code",
   "execution_count": null,
   "id": "7936ef7e-bc8e-465a-8e0d-81bb9a9f8d28",
   "metadata": {},
   "outputs": [],
   "source": [
    "A4. https://github.com/DragonKrissash/PWSkills-assignments/blob/main/Screenshot%202023-06-14%20211634.png"
   ]
  },
  {
   "cell_type": "code",
   "execution_count": null,
   "id": "63d12553-f42c-4bbd-86f8-9a6b2544d682",
   "metadata": {},
   "outputs": [],
   "source": [
    "Q5. What function is used in Flask for URL Building? Write a Python code to demonstrate the working of the\n",
    "    url_for() function.\n",
    "A5. The function url_for() is used in flask for url building. It is a built-in function provided by flask\n",
    "    by flask for generating urls dynamically based on function's name."
   ]
  },
  {
   "cell_type": "code",
   "execution_count": 8,
   "id": "21cfb057-d179-4734-bd89-8c4f6a6f0f75",
   "metadata": {},
   "outputs": [
    {
     "name": "stdout",
     "output_type": "stream",
     "text": [
      "/test\n"
     ]
    }
   ],
   "source": [
    "from flask import Flask, url_for\n",
    "\n",
    "app = Flask(__name__)\n",
    "\n",
    "@app.route('/test')\n",
    "def test():\n",
    "    return 'Test url_for!'\n",
    "\n",
    "with app.test_request_context():\n",
    "    # Generating URLs using url_for\n",
    "    print(url_for('test'))  \n",
    "    "
   ]
  },
  {
   "cell_type": "code",
   "execution_count": null,
   "id": "b7d047b3-8358-4785-aec4-a1ec3fa32a01",
   "metadata": {},
   "outputs": [],
   "source": []
  }
 ],
 "metadata": {
  "kernelspec": {
   "display_name": "Python 3 (ipykernel)",
   "language": "python",
   "name": "python3"
  },
  "language_info": {
   "codemirror_mode": {
    "name": "ipython",
    "version": 3
   },
   "file_extension": ".py",
   "mimetype": "text/x-python",
   "name": "python",
   "nbconvert_exporter": "python",
   "pygments_lexer": "ipython3",
   "version": "3.10.8"
  }
 },
 "nbformat": 4,
 "nbformat_minor": 5
}
