{
 "cells": [
  {
   "cell_type": "code",
   "execution_count": null,
   "id": "9f8000c8-f95d-4a94-bb6c-691219ca200b",
   "metadata": {},
   "outputs": [],
   "source": [
    "Q1. What is Abstraction in OOps? Explain with an example.\n",
    "A1. The act of hiding the details and showing only the required features is Abstraction.\n",
    "    Ex. In a car, the driver is shown only the accelerator, brake, steering wheel to drive the car.\n",
    "        The internal working of the car is not shown which is not required to the driver.\n",
    "        This is data abstraction.\n",
    "    \n",
    "Q2. Differentiate between Abstraction and Encapsulation. Explain with an example.\n",
    "A2. Abstraction is hiding the details of a process while encapsulation is binding the items together into \n",
    "    one unit.\n",
    "    Ex. To work on a laptop, we need to know how to use the keyboard, touch sensor etc, whithout knowing the\n",
    "        internal electronics of a laptop. \n",
    "        Stacking of different poetry books by poets in a library of section poetry is encapsulation.\n",
    "\n",
    "Q3. What is abc module in python? Why is it used?\n",
    "A3. Abc module consists of infrastructure to create abstract classes. It is used to create abstract class \n",
    "    which are used to create a outline of a class.\n",
    "    \n",
    "Q4. How can we achieve data abstraction?\n",
    "A4. We can create abstract classes and define empty functions. When other clases inherit from the abstract \n",
    "    class, we need to write the body of the abstract methods. This way we can achieve data abstraction.\n",
    "    \n",
    "Q5. Can we create an instance of an abstract class? Explain your answer.\n",
    "A5. No, we cannot create an instance of an abstract class as the class contains functions without any body.\n",
    "    The abstract class doesn't have any implementation so there's no point in creating an object of it.\n",
    "    "
   ]
  }
 ],
 "metadata": {
  "kernelspec": {
   "display_name": "Python 3 (ipykernel)",
   "language": "python",
   "name": "python3"
  },
  "language_info": {
   "codemirror_mode": {
    "name": "ipython",
    "version": 3
   },
   "file_extension": ".py",
   "mimetype": "text/x-python",
   "name": "python",
   "nbconvert_exporter": "python",
   "pygments_lexer": "ipython3",
   "version": "3.10.8"
  }
 },
 "nbformat": 4,
 "nbformat_minor": 5
}
