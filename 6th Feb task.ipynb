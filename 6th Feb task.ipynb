{
 "cells": [
  {
   "cell_type": "code",
   "execution_count": 26,
   "id": "893cbbb6-6efd-4904-9b72-4380e67e1f65",
   "metadata": {},
   "outputs": [],
   "source": [
    "#Question 1\n",
    "list1 = [1,2,3,4, [44,55,66, True], False, (34,56,78,89,34), {1,2,3,3,2,1}, \n",
    "         {1:34, \"key2\": [55, 67, 78, 89],4: (45,22, 61, 34)}, [56, 'data science'], 'Machine Learning']\n",
    "listnum=[]\n",
    "listkeys=[]\n",
    "listvalues=[]\n",
    "for i in list1:\n",
    "    if type(i)==int:\n",
    "        listnum.append(i)\n",
    "    elif type(i)==list:\n",
    "        for j in i:\n",
    "            if type(j)==int:\n",
    "                listnum.append(j)\n",
    "    elif type(i)==tuple:\n",
    "        for k in i:\n",
    "            if type(k)==int:\n",
    "                listnum.append(k)\n",
    "    elif type(i)==set:\n",
    "        for m in i:\n",
    "            if type(m)==int:\n",
    "                listnum.append(m)\n",
    "    elif type(i)==dict:\n",
    "        lis=list(i.items())\n",
    "        for n in lis:\n",
    "            for p in n:\n",
    "                if type(p)==int:\n",
    "                    listnum.append(p)\n",
    "                if type(p)==list:\n",
    "                    for o in p:\n",
    "                        if type(o)==int:\n",
    "                            listnum.append(o)\n",
    "                if type(p)==tuple:\n",
    "                    for q in p:\n",
    "                        if type(q)==int:\n",
    "                            listnum.append(q)\n",
    "    else:\n",
    "        pass\n",
    "for i in list1:\n",
    "    if type(i)==dict:\n",
    "        for j in i.keys():\n",
    "            if type (j)==int:\n",
    "                listkeys.append(j)\n",
    "        for m in i.values():\n",
    "            listvalues.append(m)"
   ]
  },
  {
   "cell_type": "code",
   "execution_count": 27,
   "id": "b7c01039-2201-4d1d-b51e-f0306e9c8a4d",
   "metadata": {},
   "outputs": [
    {
     "data": {
      "text/plain": [
       "[1, 4]"
      ]
     },
     "execution_count": 27,
     "metadata": {},
     "output_type": "execute_result"
    }
   ],
   "source": [
    "listkeys"
   ]
  },
  {
   "cell_type": "code",
   "execution_count": 28,
   "id": "2ea71ea8-4266-4186-b630-ea2baf8c7e59",
   "metadata": {},
   "outputs": [
    {
     "data": {
      "text/plain": [
       "[34, [55, 67, 78, 89], (45, 22, 61, 34)]"
      ]
     },
     "execution_count": 28,
     "metadata": {},
     "output_type": "execute_result"
    }
   ],
   "source": [
    "listvalues"
   ]
  },
  {
   "cell_type": "code",
   "execution_count": 29,
   "id": "ca837152-d54b-4c45-a890-502113a778bd",
   "metadata": {},
   "outputs": [
    {
     "data": {
      "text/plain": [
       "4134711838987085478833841242112000"
      ]
     },
     "execution_count": 29,
     "metadata": {},
     "output_type": "execute_result"
    }
   ],
   "source": [
    "from functools import reduce\n",
    "reduce(lambda x,y:x*y,listnum)"
   ]
  },
  {
   "cell_type": "code",
   "execution_count": 31,
   "id": "512ec2da-387c-430b-8e83-18eaab95673c",
   "metadata": {},
   "outputs": [
    {
     "data": {
      "text/plain": [
       "[1,\n",
       " 2,\n",
       " 3,\n",
       " 4,\n",
       " 44,\n",
       " 55,\n",
       " 66,\n",
       " 34,\n",
       " 56,\n",
       " 78,\n",
       " 89,\n",
       " 34,\n",
       " 1,\n",
       " 2,\n",
       " 3,\n",
       " 1,\n",
       " 34,\n",
       " 55,\n",
       " 67,\n",
       " 78,\n",
       " 89,\n",
       " 4,\n",
       " 45,\n",
       " 22,\n",
       " 61,\n",
       " 34,\n",
       " 56]"
      ]
     },
     "execution_count": 31,
     "metadata": {},
     "output_type": "execute_result"
    }
   ],
   "source": [
    "listnum"
   ]
  },
  {
   "cell_type": "code",
   "execution_count": 17,
   "id": "e5cd07e4-fd7b-451c-b4e2-692ae621529d",
   "metadata": {},
   "outputs": [
    {
     "name": "stdin",
     "output_type": "stream",
     "text": [
      "Enter a sentence I want to become a data scientist.\n"
     ]
    },
    {
     "name": "stdout",
     "output_type": "stream",
     "text": [
      "$dzmg$gl$yvxlnv$z$wzgz$hxrvmgrhg.\n"
     ]
    }
   ],
   "source": [
    "#Question 2\n",
    "li=['a','b','c','d','e','f','g','h','i','j','k','l','m','n','o','p','q','r','s','t','u','v','w','x','y','z']\n",
    "lf=li[::-1]\n",
    "sen=str(input(\"Enter a sentence\"))\n",
    "sen.lower()\n",
    "word=''\n",
    "senf=''\n",
    "y=False\n",
    "for i in sen:\n",
    "    for j in i:\n",
    "        if j==' ':\n",
    "                word=word+'$'\n",
    "        elif j==','or j=='.' or j=='?' or j==';':\n",
    "            word=word+j\n",
    "        else:\n",
    "            for m in range(26):\n",
    "                if j==li[m]:\n",
    "                    word=word+lf[m]\n",
    "    senf=senf+word\n",
    "    word=''\n",
    "print(senf)"
   ]
  }
 ],
 "metadata": {
  "kernelspec": {
   "display_name": "Python 3 (ipykernel)",
   "language": "python",
   "name": "python3"
  },
  "language_info": {
   "codemirror_mode": {
    "name": "ipython",
    "version": 3
   },
   "file_extension": ".py",
   "mimetype": "text/x-python",
   "name": "python",
   "nbconvert_exporter": "python",
   "pygments_lexer": "ipython3",
   "version": "3.10.8"
  }
 },
 "nbformat": 4,
 "nbformat_minor": 5
}
