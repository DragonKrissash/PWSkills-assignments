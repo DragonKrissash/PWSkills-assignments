{
 "cells": [
  {
   "cell_type": "code",
   "execution_count": null,
   "id": "d80b1050-1eaf-477e-962a-399edab9f6f6",
   "metadata": {},
   "outputs": [],
   "source": [
    "Q1. Explain why we have to use the Exception class while creating a Custom Exception.\n",
    "A1. While creating a custom exception, the user defines his own exceptions and errors for which he does \n",
    "    exception handling.\n",
    "    To do the handling successfully, the user needs few function of exception class for working.\n",
    "    Therefore we have to use the exception class."
   ]
  },
  {
   "cell_type": "code",
   "execution_count": null,
   "id": "290e0c73-4756-48c4-9ca5-a6695882ca51",
   "metadata": {},
   "outputs": [],
   "source": [
    "Q2. Write a python program to print Python Exception Hierarchy."
   ]
  },
  {
   "cell_type": "code",
   "execution_count": null,
   "id": "21ddf06d-1811-4c14-bd40-450c2b71e49d",
   "metadata": {},
   "outputs": [],
   "source": [
    "#Answer 2 I don't know and I found some code for the answer but it would be cheating if I copied it."
   ]
  },
  {
   "cell_type": "code",
   "execution_count": null,
   "id": "628a11d1-35dc-4bde-a3d4-9eaad0a7cdd5",
   "metadata": {},
   "outputs": [],
   "source": [
    "Q3. What errors are defined in the ArithmeticError class? Explain any two with an example.\n",
    "A3. Zerodivision error, Over flow error, Floating point error are defined in arithmetic error.\n",
    "    Zero division error occurs when any non-zero number is divided by zero.\n",
    "    Over flow error occurs when a very large series of numbers are being produced and interpreter can't\n",
    "    handle them."
   ]
  },
  {
   "cell_type": "code",
   "execution_count": 2,
   "id": "c623d174-f4c0-462a-b6ba-d120969ebf91",
   "metadata": {},
   "outputs": [
    {
     "name": "stdout",
     "output_type": "stream",
     "text": [
      "division by zero\n"
     ]
    }
   ],
   "source": [
    "try:\n",
    "    d=4/0\n",
    "except ZeroDivisionError as e:\n",
    "    print (e)"
   ]
  },
  {
   "cell_type": "code",
   "execution_count": 2,
   "id": "6632ebd7-a1db-49d1-8801-534c7806bf6d",
   "metadata": {},
   "outputs": [
    {
     "name": "stdout",
     "output_type": "stream",
     "text": [
      "5.0\n",
      "25.0\n",
      "15625.0\n",
      "5.960464477539062e+16\n",
      "7.52316384526264e+83\n",
      "(34, 'Numerical result out of range')\n"
     ]
    }
   ],
   "source": [
    "try:\n",
    "    j = 5.0\n",
    "    for i in range(1, 1000):\n",
    "        j = j**i\n",
    "        print (j)\n",
    "except OverflowError as e:\n",
    "    print (e)"
   ]
  },
  {
   "cell_type": "code",
   "execution_count": null,
   "id": "e7b590bd-47d7-422e-babc-be564ed2a6ef",
   "metadata": {},
   "outputs": [],
   "source": [
    "Q4. Why LookupError class is used? Explain with an example KeyError and IndexError.\n",
    "A4. LookupError class is used for all exceptions when an index or a key for a dictionary is not found."
   ]
  },
  {
   "cell_type": "code",
   "execution_count": 4,
   "id": "431f4ba7-8758-402e-828f-540374e331de",
   "metadata": {},
   "outputs": [
    {
     "name": "stdout",
     "output_type": "stream",
     "text": [
      "list index out of range\n"
     ]
    }
   ],
   "source": [
    "#Index error occurs in a iterable data type when an index which is not present is asked\n",
    "try:\n",
    "    l=[1,2,3,4]\n",
    "    print(l[7])\n",
    "except IndexError as e:\n",
    "    print (e)"
   ]
  },
  {
   "cell_type": "code",
   "execution_count": 13,
   "id": "89d26b74-2964-4c2a-bc83-43875e60b0d4",
   "metadata": {},
   "outputs": [
    {
     "name": "stdout",
     "output_type": "stream",
     "text": [
      "'k6'\n"
     ]
    }
   ],
   "source": [
    "#Key error occurs when a key asked which is not present in a dictionary\n",
    "try:\n",
    "    d={'k1':'v1','k2':'v2','k3':'v3'}\n",
    "    print(d['k6'])\n",
    "except KeyError as e:\n",
    "    print(e)"
   ]
  },
  {
   "cell_type": "code",
   "execution_count": null,
   "id": "f87abcfc-3daf-4e43-b32f-ea88f421b33e",
   "metadata": {},
   "outputs": [],
   "source": [
    "Q5. Explain ImportError. What is ModuleNotFoundError?\n",
    "A5. Import error occurs when there is difficulty in importing which may occur due to\n",
    "    Circular dependency, Imported class is misspelled, imported class from a module is misplaced, \n",
    "    imported class is unavailable or not created, imported class is not present in python library.\n",
    "    \n",
    "    ModuleNotFoundError occurs when a specified module is not present in python which may occur as the \n",
    "    module might not be installed, Spelling of the module maybe incorrect, location of the module may be \n",
    "    wrong."
   ]
  },
  {
   "cell_type": "code",
   "execution_count": null,
   "id": "85e51512-030d-4d82-95c1-c6cab8e45502",
   "metadata": {},
   "outputs": [],
   "source": [
    "Q6. List down some best practices for exception handling in python.\n",
    "A6. a) Using specific error for exception\n",
    "    b) Giving proper message for errors\n",
    "    c) Using logging\n",
    "    d) Documenting all error\n",
    "    e) Cleaning up the resources"
   ]
  }
 ],
 "metadata": {
  "kernelspec": {
   "display_name": "Python 3 (ipykernel)",
   "language": "python",
   "name": "python3"
  },
  "language_info": {
   "codemirror_mode": {
    "name": "ipython",
    "version": 3
   },
   "file_extension": ".py",
   "mimetype": "text/x-python",
   "name": "python",
   "nbconvert_exporter": "python",
   "pygments_lexer": "ipython3",
   "version": "3.10.8"
  }
 },
 "nbformat": 4,
 "nbformat_minor": 5
}
