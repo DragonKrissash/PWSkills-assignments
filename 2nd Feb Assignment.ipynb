{
 "cells": [
  {
   "cell_type": "code",
   "execution_count": null,
   "id": "45b8b54e-a984-4d5a-a708-1a6cd4f2eeb4",
   "metadata": {},
   "outputs": [],
   "source": [
    "Q1. Explain with an example when to use for loop and a while loop?\n",
    "A1. For loop is used when we know how many times a body should be iterated.\n",
    "    While loop is used when we don't know how many times a body should be iterated.\n",
    "    \n",
    "    Ex: If we want to add first 10 natural numbers, we know that the loop must occur for 10 times to get the\n",
    "    sum as there are 10 numbers.\n",
    "        If we want to add the digits in a numbers, we don't know how many times the loop is going to occur \n",
    "        as the number of digits in a user given number is different, so we need to create a logic using \n",
    "        while loop to find the sum of the digits.\n",
    "        "
   ]
  },
  {
   "cell_type": "code",
   "execution_count": 3,
   "id": "080c188a-6e1d-4ce3-8b5d-2766feefc70b",
   "metadata": {},
   "outputs": [
    {
     "name": "stdout",
     "output_type": "stream",
     "text": [
      "The sum of first 10 natural numbers:  55 \n",
      "The product of first 10 natural numbers:  3628800\n"
     ]
    }
   ],
   "source": [
    "#Question 2\n",
    "sum1=0\n",
    "prod=1\n",
    "for i in range(1,11):\n",
    "    sum1+=i\n",
    "    prod*=i\n",
    "print('The sum of first 10 natural numbers: ',sum1,'\\nThe product of first 10 natural numbers: ',prod)\n"
   ]
  },
  {
   "cell_type": "code",
   "execution_count": 5,
   "id": "15d231c0-9365-441f-bf8d-0f133fb74b18",
   "metadata": {},
   "outputs": [
    {
     "name": "stdout",
     "output_type": "stream",
     "text": [
      "The sum of first 10 natural numbers:  55 \n",
      "The product of first 10 natural numbers:  3628800\n"
     ]
    }
   ],
   "source": [
    "#Question 2\n",
    "sum1=0\n",
    "prod=1\n",
    "i=1\n",
    "while i<11:\n",
    "    sum1+=i\n",
    "    prod*=i\n",
    "    i+=1\n",
    "print('The sum of first 10 natural numbers: ',sum1,'\\nThe product of first 10 natural numbers: ',prod)"
   ]
  },
  {
   "cell_type": "code",
   "execution_count": 7,
   "id": "29639989-9cc4-4ccc-ba41-3288792c0bce",
   "metadata": {},
   "outputs": [
    {
     "name": "stdin",
     "output_type": "stream",
     "text": [
      "Enter the number of units consumed 310\n"
     ]
    },
    {
     "name": "stdout",
     "output_type": "stream",
     "text": [
      "The total amount of electricity bill:  2250\n"
     ]
    }
   ],
   "source": [
    "#Question 3\n",
    "n=int(input('Enter the number of units consumed'))\n",
    "if n<=100:\n",
    "    bill=4.5*n\n",
    "elif n>100 and n<=200:\n",
    "    bill = 450+(n-100)*6\n",
    "elif n>200 and n<=300:\n",
    "    bill = 450+600+(n-200)*10\n",
    "else:\n",
    "    bill = 450+600+1000+(n-300)*20\n",
    "print('The total amount of electricity bill: ',bill)"
   ]
  },
  {
   "cell_type": "code",
   "execution_count": 15,
   "id": "4e04e8fe-b451-44ac-afd7-5c9a4b76d7f2",
   "metadata": {},
   "outputs": [
    {
     "name": "stdout",
     "output_type": "stream",
     "text": [
      "[2, 4, 5, 6, 8, 10, 12, 14, 15, 16, 18, 20, 22, 24, 25, 26, 28, 30, 32, 34, 35, 36, 38, 40, 42, 44, 45, 46, 48, 50, 52, 54, 55, 56, 58, 60, 62, 64, 65, 66, 68, 70, 72, 74, 75, 76, 78, 80, 82, 84, 85, 86, 88, 90, 92, 94, 95, 96, 98, 100]\n"
     ]
    }
   ],
   "source": [
    "#Question 4\n",
    "l=[i for i in range(1,101)]\n",
    "i=0\n",
    "l2=[]\n",
    "while i<100:\n",
    "    cube=l[i]**3\n",
    "    if cube%4==0 or cube %5==0:\n",
    "        l2.append(l[i])\n",
    "    i+=1\n",
    "print(l2)"
   ]
  },
  {
   "cell_type": "code",
   "execution_count": 18,
   "id": "26d47f1e-3d9f-4536-b49c-6f370e7bb627",
   "metadata": {},
   "outputs": [
    {
     "name": "stdout",
     "output_type": "stream",
     "text": [
      "[2, 4, 5, 6, 8, 10, 12, 14, 15, 16, 18, 20, 22, 24, 25, 26, 28, 30, 32, 34, 35, 36, 38, 40, 42, 44, 45, 46, 48, 50, 52, 54, 55, 56, 58, 60, 62, 64, 65, 66, 68, 70, 72, 74, 75, 76, 78, 80, 82, 84, 85, 86, 88, 90, 92, 94, 95, 96, 98, 100]\n"
     ]
    }
   ],
   "source": [
    "#Question 4 - 1 line code\n",
    "l=[i for i in range(1,101) if i**3%4==0 or i**3%5==0]\n",
    "print (l)"
   ]
  },
  {
   "cell_type": "code",
   "execution_count": 19,
   "id": "d3b09598-8b1b-4ab1-846a-cea4848c31fc",
   "metadata": {},
   "outputs": [
    {
     "name": "stdout",
     "output_type": "stream",
     "text": [
      "12\n"
     ]
    }
   ],
   "source": [
    "#Question 5\n",
    "string='I want to become a data scientist'\n",
    "count=0\n",
    "for i in string:\n",
    "    i=i.lower()\n",
    "    for j in i:\n",
    "        if j=='a' or j=='e' or j=='i' or j=='o' or j=='u':\n",
    "            count+=1\n",
    "print(count)"
   ]
  },
  {
   "cell_type": "code",
   "execution_count": null,
   "id": "8a8b1160-9828-4385-80cc-b657aecc35ae",
   "metadata": {},
   "outputs": [],
   "source": []
  }
 ],
 "metadata": {
  "kernelspec": {
   "display_name": "Python 3 (ipykernel)",
   "language": "python",
   "name": "python3"
  },
  "language_info": {
   "codemirror_mode": {
    "name": "ipython",
    "version": 3
   },
   "file_extension": ".py",
   "mimetype": "text/x-python",
   "name": "python",
   "nbconvert_exporter": "python",
   "pygments_lexer": "ipython3",
   "version": "3.10.8"
  }
 },
 "nbformat": 4,
 "nbformat_minor": 5
}
